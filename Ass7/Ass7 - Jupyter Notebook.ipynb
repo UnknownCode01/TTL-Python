{
 "cells": [
  {
   "cell_type": "markdown",
   "id": "d643be99",
   "metadata": {},
   "source": [
    "Q1. Write a program to create a dictionary containing names of competition winner students as \n",
    "keys and number of their wins as values."
   ]
  },
  {
   "cell_type": "code",
   "execution_count": 1,
   "id": "66097a1c",
   "metadata": {},
   "outputs": [
    {
     "name": "stdout",
     "output_type": "stream",
     "text": [
      "21052410\n",
      "Enter the number of students: 3\n",
      "Enter the name of student 1: Brijit Adak\n",
      "Enter the number of wins for Brijit Adak: 4\n",
      "Enter the name of student 2: Sayan Maity\n",
      "Enter the number of wins for Sayan Maity: 5\n",
      "Enter the name of student 3: Diptendra Maity \n",
      "Enter the number of wins for Diptendra Maity : 6\n",
      "Competition winners dictionary:\n",
      "{'Brijit Adak': 4, 'Sayan Maity': 5, 'Diptendra Maity ': 6}\n"
     ]
    }
   ],
   "source": [
    "def create_winner_dict():\n",
    "    winner_dict = {}\n",
    "    num_students = int(input(\"Enter the number of students: \"))\n",
    "\n",
    "    for i in range(num_students):\n",
    "        name = input(f\"Enter the name of student {i+1}: \")\n",
    "        wins = int(input(f\"Enter the number of wins for {name}: \"))\n",
    "        winner_dict[name] = wins\n",
    "\n",
    "    return winner_dict\n",
    "\n",
    "if __name__ == \"__main__\":\n",
    "    print('21052410')\n",
    "    winners = create_winner_dict()\n",
    "    print(\"Competition winners dictionary:\")\n",
    "    print(winners)\n"
   ]
  },
  {
   "cell_type": "markdown",
   "id": "68dee38f",
   "metadata": {},
   "source": [
    "Q2. Write a program to create a phone directory for all your friends and then print it."
   ]
  },
  {
   "cell_type": "code",
   "execution_count": 2,
   "id": "9ad607ae",
   "metadata": {},
   "outputs": [
    {
     "name": "stdout",
     "output_type": "stream",
     "text": [
      "21052410\n",
      "Enter the number of friends: 3\n",
      "Enter the name of friend 1: Brijit Adak\n",
      "Enter the phone number for Brijit Adak: 123\n",
      "Enter the name of friend 2: Sayan Maity\n",
      "Enter the phone number for Sayan Maity: 234\n",
      "Enter the name of friend 3: Diptendra Maity\n",
      "Enter the phone number for Diptendra Maity: 345\n",
      "Phone Directory:\n",
      "Brijit Adak: 123\n",
      "Sayan Maity: 234\n",
      "Diptendra Maity: 345\n"
     ]
    }
   ],
   "source": [
    "def create_phone_directory():\n",
    "    phone_directory = {}\n",
    "    num_friends = int(input(\"Enter the number of friends: \"))\n",
    "\n",
    "    for i in range(num_friends):\n",
    "        name = input(f\"Enter the name of friend {i+1}: \")\n",
    "        phone_number = input(f\"Enter the phone number for {name}: \")\n",
    "        phone_directory[name] = phone_number\n",
    "\n",
    "    return phone_directory\n",
    "\n",
    "def print_phone_directory(directory):\n",
    "    print(\"Phone Directory:\")\n",
    "    for name, phone_number in directory.items():\n",
    "        print(f\"{name}: {phone_number}\")\n",
    "\n",
    "if __name__ == \"__main__\":\n",
    "    print('21052410')\n",
    "    friends_directory = create_phone_directory()\n",
    "    print_phone_directory(friends_directory)\n"
   ]
  },
  {
   "cell_type": "markdown",
   "id": "894c8763",
   "metadata": {},
   "source": [
    "Q3. Marks of three students ‘Suniti’, ‘Ryna’, and ‘ziva’ in 3 subjects are available in dictionary.<br>\n",
    "D1 = {1:40, 2:70, 3:70}<br>\n",
    "D2 = {1:40, 2:50, 3:60}<br>\n",
    "D3 = {1:70, 2:80, 3:90}<br>\n",
    "Sample Output:<br>\n",
    "Key Value<br>\n",
    "Ryna {1:40, 2:50, 3:60}<br>\n",
    "<table  align=\"left\" style=\"width:20%\">\n",
    "    <tr>\n",
    "    <th>Subject(Key)</th>\n",
    "    <th>Marks(Value)</th>\n",
    "  </tr>\n",
    "    <tr>\n",
    "    <td>1</td>\n",
    "    <td>40</td>\n",
    "  </tr>\n",
    "    <tr>\n",
    "    <td>2</td>\n",
    "    <td>50</td>\n",
    "  </tr>\n",
    "    <tr>\n",
    "    <td>3</td>\n",
    "    <td>60</td>\n",
    "  </tr>\n",
    "</table><br><br><br><br><br><br><br>\n",
    "Find the highest mark in subject 3.<br>"
   ]
  },
  {
   "cell_type": "code",
   "execution_count": 17,
   "id": "b2524624",
   "metadata": {},
   "outputs": [
    {
     "name": "stdout",
     "output_type": "stream",
     "text": [
      "21052410\n",
      "Key\tValue\n",
      "Ryna\t{1: 40, 2: 50, 3: 60}\n",
      "Subject(Key)\tMarks(Value)\n",
      "1 \t\t 40\n",
      "2 \t\t 50\n",
      "3 \t\t 60\n",
      "Highest mark in subject 3: 90\n"
     ]
    }
   ],
   "source": [
    "D1 = {1:40, 2:70, 3:70}\n",
    "D2 = {1:40, 2:50, 3:60}\n",
    "D3 = {1:70, 2:80, 3:90}\n",
    "subject_3_marks = [D1[3], D2[3], D3[3]]\n",
    "highest_mark = max(subject_3_marks)\n",
    "print('21052410')\n",
    "print('Key\\tValue')\n",
    "print('Ryna',D2,sep=\"\\t\")\n",
    "print('Subject(Key)\\tMarks(Value)')\n",
    "for i in D2.items():\n",
    "    print(i[0],'\\t\\t',i[1])\n",
    "\n",
    "print(\"Highest mark in subject 3:\", highest_mark)\n"
   ]
  },
  {
   "cell_type": "markdown",
   "id": "ccff90d8",
   "metadata": {},
   "source": [
    "Q4. Create a dictionary whose keys are month names and whose values are the number of days <br>\n",
    "in the corresponding months.<br>\n",
    "a) Ask the user to enter a month name and use the dictionary to tell them how many days <br>\n",
    "are in the month.<br>\n",
    "b) Print out all the keys in alphabetical order.<br>\n",
    "c) Print out all of the month with 31 days.<br>\n",
    "d) Print out the (key value) pairs started by the number of days in each month.<br>"
   ]
  },
  {
   "cell_type": "code",
   "execution_count": 22,
   "id": "701cb262",
   "metadata": {},
   "outputs": [
    {
     "name": "stdout",
     "output_type": "stream",
     "text": [
      "21052410\n",
      "Enter a month name: July\n",
      "july has 31 days.\n",
      "\n",
      "Month names in alphabetical order:\n",
      "actober\n",
      "april\n",
      "august\n",
      "december\n",
      "february\n",
      "january\n",
      "july\n",
      "june\n",
      "march\n",
      "may\n",
      "november\n",
      "september\n",
      "\n",
      "Months with 31 days:\n",
      "january\n",
      "march\n",
      "may\n",
      "july\n",
      "august\n",
      "actober\n",
      "december\n",
      "\n",
      "(Key, Value) pairs sorted by the number of days:\n",
      "february: 28\n",
      "april: 30\n",
      "june: 30\n",
      "september: 30\n",
      "november: 30\n",
      "january: 31\n",
      "march: 31\n",
      "may: 31\n",
      "july: 31\n",
      "august: 31\n",
      "actober: 31\n",
      "december: 31\n"
     ]
    }
   ],
   "source": [
    "def create_month_dictionary():\n",
    "    months_dict = {\n",
    "        \"january\": 31,\n",
    "        \"february\": 28,\n",
    "        \"march\": 31,\n",
    "        \"april\": 30,\n",
    "        \"may\": 31,\n",
    "        \"june\": 30,\n",
    "        \"july\": 31,\n",
    "        \"august\": 31,\n",
    "        \"september\": 30,\n",
    "        \"actober\": 31,\n",
    "        \"november\": 30,\n",
    "        \"december\": 31\n",
    "    }\n",
    "    return months_dict\n",
    "\n",
    "def main():\n",
    "    print('21052410')\n",
    "    months_dict = create_month_dictionary()\n",
    "\n",
    "    # a) \n",
    "    month_name = input(\"Enter a month name: \").lower()\n",
    "    if month_name in months_dict:\n",
    "        print(f\"{month_name} has {months_dict[month_name]} days.\")\n",
    "    else:\n",
    "        print(\"Invalid month name.\")\n",
    "\n",
    "    # b) \n",
    "    print(\"\\nMonth names in alphabetical order:\")\n",
    "    for month in sorted(months_dict.keys()):\n",
    "        print(month)\n",
    "\n",
    "    # c)\n",
    "    print(\"\\nMonths with 31 days:\")\n",
    "    for month, days in months_dict.items():\n",
    "        if days == 31:\n",
    "            print(month)\n",
    "\n",
    "    # d)\n",
    "    print(\"\\n(Key, Value) pairs sorted by the number of days:\")\n",
    "    sorted_pairs = sorted(months_dict.items(), key=lambda x: x[1])\n",
    "    for month, days in sorted_pairs:\n",
    "        print(f\"{month}: {days}\")\n",
    "\n",
    "if __name__ == \"__main__\":\n",
    "    main()\n"
   ]
  },
  {
   "cell_type": "markdown",
   "id": "6256603d",
   "metadata": {},
   "source": [
    "Q5. Repeatedly ask the user to enter a team name and how many games the team has won and \n",
    "how many they lost.<br>\n",
    "Store this information in a dictionary where the keys are the team names and the values are list <br>\n",
    "of the form [wins, losses]<br>\n",
    "a) Using the dictionary created above, allow the user to enter a team name and print out <br>\n",
    "the team’s winning percentage.<br>\n",
    "b) Using the dictionary, create a list whose entries are the member of wins of each team.<br>\n",
    "c) Using the dictionary, create a list of all those teams that have winning records."
   ]
  },
  {
   "cell_type": "code",
   "execution_count": 28,
   "id": "c48cab5c",
   "metadata": {},
   "outputs": [
    {
     "name": "stdout",
     "output_type": "stream",
     "text": [
      "21052410\n",
      "Enter the team name (or type 'done' to finish): a\n",
      "Enter the number of wins for the team: 3\n",
      "Enter the number of losses for the team: 2\n",
      "Enter the team name (or type 'done' to finish): b\n",
      "Enter the number of wins for the team: 2\n",
      "Enter the number of losses for the team: 3\n",
      "Enter the team name (or type 'done' to finish): c\n",
      "Enter the number of wins for the team: 4\n",
      "Enter the number of losses for the team: 1\n",
      "Enter the team name (or type 'done' to finish): done\n",
      "\n",
      "Enter a team name to get its winning percentage: b\n",
      "The winning percentage of b is: 40.00%\n",
      "\n",
      "List of wins for each team: [3, 2, 4]\n",
      "\n",
      "Teams with winning records: ['a', 'c']\n"
     ]
    }
   ],
   "source": [
    "def create_team_dictionary():\n",
    "    team_dict = {}\n",
    "    while True:\n",
    "        team_name = input(\"Enter the team name (or type 'done' to finish): \")\n",
    "        if team_name.lower() == 'done':\n",
    "            break\n",
    "        wins = int(input(\"Enter the number of wins for the team: \"))\n",
    "        losses = int(input(\"Enter the number of losses for the team: \"))\n",
    "        team_dict[team_name] = [wins, losses]\n",
    "    return team_dict\n",
    "\n",
    "def calculate_winning_percentage(team_dict, team_name):\n",
    "    if team_name in team_dict:\n",
    "        wins, losses = team_dict[team_name]\n",
    "        total_games = wins + losses\n",
    "        if total_games > 0:\n",
    "            winning_percentage = (wins / total_games) * 100\n",
    "            return winning_percentage\n",
    "        else:\n",
    "            return 0\n",
    "    else:\n",
    "        return None\n",
    "\n",
    "def main():\n",
    "   \n",
    "    print('21052410')\n",
    "    team_dict = create_team_dictionary()\n",
    "\n",
    "    # a)\n",
    "    team_name = input(\"\\nEnter a team name to get its winning percentage: \")\n",
    "    winning_percentage = calculate_winning_percentage(team_dict, team_name)\n",
    "    if winning_percentage is not None:\n",
    "        print(f\"The winning percentage of {team_name} is: {winning_percentage:.2f}%\")\n",
    "    else:\n",
    "        print(\"Team not found.\")\n",
    "\n",
    "    # b) \n",
    "    wins_list = [wins for wins, _ in team_dict.values()]\n",
    "    print(\"\\nList of wins for each team:\", wins_list)\n",
    "\n",
    "    # c)\n",
    "    winning_teams = [team for team, record in team_dict.items() if record[0] > record[1]]\n",
    "    print(\"\\nTeams with winning records:\", winning_teams)\n",
    "\n",
    "if __name__ == \"__main__\":\n",
    "    main()\n"
   ]
  }
 ],
 "metadata": {
  "kernelspec": {
   "display_name": "Python 3 (ipykernel)",
   "language": "python",
   "name": "python3"
  },
  "language_info": {
   "codemirror_mode": {
    "name": "ipython",
    "version": 3
   },
   "file_extension": ".py",
   "mimetype": "text/x-python",
   "name": "python",
   "nbconvert_exporter": "python",
   "pygments_lexer": "ipython3",
   "version": "3.11.5"
  }
 },
 "nbformat": 4,
 "nbformat_minor": 5
}
