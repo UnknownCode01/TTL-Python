{
 "cells": [
  {
   "cell_type": "markdown",
   "id": "828a21b3",
   "metadata": {},
   "source": [
    "Q1. Write a Python program that will print your name 10 times"
   ]
  },
  {
   "cell_type": "code",
   "execution_count": 1,
   "id": "b2e6b7d1",
   "metadata": {},
   "outputs": [
    {
     "name": "stdout",
     "output_type": "stream",
     "text": [
      "Q1.\n",
      "Rollno: 21052410\n",
      "\n",
      "Brijit Adak\n",
      "Brijit Adak\n",
      "Brijit Adak\n",
      "Brijit Adak\n",
      "Brijit Adak\n",
      "Brijit Adak\n",
      "Brijit Adak\n",
      "Brijit Adak\n",
      "Brijit Adak\n",
      "Brijit Adak\n"
     ]
    }
   ],
   "source": [
    "print('Q1.\\nRollno: 21052410\\n')\n",
    "\n",
    "for i in range(10):\n",
    "    print('Brijit Adak')"
   ]
  },
  {
   "cell_type": "markdown",
   "id": "2e3f8a86",
   "metadata": {},
   "source": [
    " Q2. Write a Python program that will print 1 2 3 4 5 6 7 8 9 10"
   ]
  },
  {
   "cell_type": "code",
   "execution_count": 2,
   "id": "429d04cb",
   "metadata": {},
   "outputs": [
    {
     "name": "stdout",
     "output_type": "stream",
     "text": [
      "Q2.\n",
      "Rollno: 21052410\n",
      "\n",
      "1\n",
      "2\n",
      "3\n",
      "4\n",
      "5\n",
      "6\n",
      "7\n",
      "8\n",
      "9\n",
      "10\n"
     ]
    }
   ],
   "source": [
    "print('Q2.\\nRollno: 21052410\\n')\n",
    "\n",
    "for i in range(10):\n",
    "    print(i+1)"
   ]
  },
  {
   "cell_type": "markdown",
   "id": "e265f16d",
   "metadata": {},
   "source": [
    " Q3. Write a Python program that will print the number between m and n"
   ]
  },
  {
   "cell_type": "code",
   "execution_count": 3,
   "id": "f1c8715b",
   "metadata": {},
   "outputs": [
    {
     "name": "stdout",
     "output_type": "stream",
     "text": [
      "Q3.\n",
      "Rollno: 21052410\n",
      "\n",
      "Enter m: 4\n",
      "Enter n: 7\n",
      "6\n"
     ]
    }
   ],
   "source": [
    "print('Q3.\\nRollno: 21052410\\n')\n",
    "import random\n",
    "m=eval(input('Enter m: '))\n",
    "n=eval(input('Enter n: '))\n",
    "\n",
    "print(random.randint(m,n))\n"
   ]
  },
  {
   "cell_type": "markdown",
   "id": "228729e5",
   "metadata": {},
   "source": [
    "Q4. Write a Python program that will print all odd number between m and n"
   ]
  },
  {
   "cell_type": "code",
   "execution_count": 7,
   "id": "a176fb74",
   "metadata": {},
   "outputs": [
    {
     "name": "stdout",
     "output_type": "stream",
     "text": [
      "Q4.\n",
      "Rollno: 21052410\n",
      "\n",
      "Enter m: 3\n",
      "Enter n: 9\n",
      "3\n",
      "5\n",
      "7\n"
     ]
    }
   ],
   "source": [
    "print('Q4.\\nRollno: 21052410\\n')\n",
    "m=eval(input('Enter m: '))\n",
    "n=eval(input('Enter n: '))\n",
    "for i in range(m,n):\n",
    "    if(i%2!=0):\n",
    "        print(i)\n"
   ]
  },
  {
   "cell_type": "markdown",
   "id": "00cfb86c",
   "metadata": {},
   "source": [
    "Q5. Write a Python program that will print 9 7 5 3 1 -1 -3 -5 -7 -9"
   ]
  },
  {
   "cell_type": "code",
   "execution_count": 8,
   "id": "3c194acb",
   "metadata": {},
   "outputs": [
    {
     "name": "stdout",
     "output_type": "stream",
     "text": [
      "Q5.\n",
      "Rollno: 21052410\n",
      "\n",
      "9 7 5 3 1 -1 -3 -5 -7 -9 "
     ]
    }
   ],
   "source": [
    "print('Q5.\\nRollno: 21052410\\n')\n",
    "for i in range(9,-10,-2):\n",
    "    print(i,end=\" \")"
   ]
  },
  {
   "cell_type": "markdown",
   "id": "677d0704",
   "metadata": {},
   "source": [
    "Q6. Write a Python program that will print sum of the following series\n",
    "Sum = 1+ ½ + 1/3 + …..1/n"
   ]
  },
  {
   "cell_type": "code",
   "execution_count": 10,
   "id": "93d4324a",
   "metadata": {},
   "outputs": [
    {
     "name": "stdout",
     "output_type": "stream",
     "text": [
      "Q6.\n",
      "Rollno: 21052410\n",
      "\n",
      "Enter n: 2\n",
      "Sum =  1.5\n"
     ]
    }
   ],
   "source": [
    "print('Q6.\\nRollno: 21052410\\n')\n",
    "n=eval(input(\"Enter n: \"))\n",
    "s=0;\n",
    "for i in range(n):\n",
    "    s+=1/(i+1)\n",
    "print('Sum = ',s)\n"
   ]
  },
  {
   "cell_type": "markdown",
   "id": "c1dd7dc1",
   "metadata": {},
   "source": [
    "Q7 Write a Python program that will print sum of the following series\n",
    "Sum = 1+ ½! + 1/3! + …..1/n!"
   ]
  },
  {
   "cell_type": "code",
   "execution_count": 11,
   "id": "bd67cb25",
   "metadata": {},
   "outputs": [
    {
     "name": "stdout",
     "output_type": "stream",
     "text": [
      "Q7.\n",
      "Rollno: 21052410\n",
      "\n",
      "Enter n: 2\n",
      "Sum =  1.5\n"
     ]
    }
   ],
   "source": [
    "print('Q7.\\nRollno: 21052410\\n')\n",
    "n=eval(input(\"Enter n: \"))\n",
    "s=0;\n",
    "for i in range(n):\n",
    "    f=1\n",
    "    for j in range(i+1):\n",
    "        f*=(j+1)\n",
    "    s+=1/f\n",
    "print('Sum = ',s)\n"
   ]
  },
  {
   "cell_type": "markdown",
   "id": "03074000",
   "metadata": {},
   "source": [
    "Q8. Write a Python program that will print sum of the following series\n",
    "e^x = 1+ x + x^2/2! +x^3/3! …..x^n/n!"
   ]
  },
  {
   "cell_type": "code",
   "execution_count": 13,
   "id": "ad8f6edf",
   "metadata": {},
   "outputs": [
    {
     "name": "stdout",
     "output_type": "stream",
     "text": [
      "Q8.\n",
      "Rollno: 21052410\n",
      "\n",
      "Enter the value of x: 3\n",
      "Enter the number of terms (n): 7\n",
      "The sum of the series e^3.0 is: 19.846428571428568\n"
     ]
    }
   ],
   "source": [
    "print('Q8.\\nRollno: 21052410\\n')\n",
    "import math\n",
    "\n",
    "def calculate_series_sum(x, n):\n",
    "    series_sum = 0\n",
    "\n",
    "    for i in range(n + 1):\n",
    "        term = (x ** i) / math.factorial(i)\n",
    "        series_sum += term\n",
    "\n",
    "    return series_sum\n",
    "\n",
    "x_value = float(input(\"Enter the value of x: \"))\n",
    "n_terms = int(input(\"Enter the number of terms (n): \"))\n",
    "\n",
    "result = calculate_series_sum(x_value, n_terms)\n",
    "print(f\"The sum of the series e^{x_value} is: {result}\")"
   ]
  },
  {
   "cell_type": "markdown",
   "id": "7112ad4d",
   "metadata": {},
   "source": [
    "Q9. Write a Python program that will read x and compute sin(x)\n",
    "(Hints: Use Taylor’s series expansion)"
   ]
  },
  {
   "cell_type": "code",
   "execution_count": 14,
   "id": "a8ddddba",
   "metadata": {},
   "outputs": [
    {
     "name": "stdout",
     "output_type": "stream",
     "text": [
      "Q9.\n",
      "Rollno: 21052410\n",
      "\n",
      "Enter the angle in degrees: 45\n",
      "The sine of 45.0 degrees is approximately: 0.7071067811865475\n"
     ]
    }
   ],
   "source": [
    "print('Q9.\\nRollno: 21052410\\n')\n",
    "import math\n",
    "\n",
    "def compute_sin(x, num_terms=10):\n",
    "    result = 0\n",
    "    for n in range(num_terms):\n",
    "        term = ((-1) ** n) * (x ** (2 * n + 1)) / math.factorial(2 * n + 1)\n",
    "        result += term\n",
    "    return result\n",
    "\n",
    "degrees = float(input(\"Enter the angle in degrees: \"))\n",
    "x_radians = math.radians(degrees)\n",
    "\n",
    "num_terms = 10\n",
    "\n",
    "sin_x = compute_sin(x_radians, num_terms)\n",
    "\n",
    "print(f\"The sine of {degrees} degrees is approximately: {sin_x}\")\n"
   ]
  },
  {
   "cell_type": "markdown",
   "id": "887458e7",
   "metadata": {},
   "source": [
    "Q10. Write a Python program that will read x and compute cos(x)\n",
    "(Hints: Use Taylor’s series expansion)"
   ]
  },
  {
   "cell_type": "code",
   "execution_count": 15,
   "id": "03360f55",
   "metadata": {},
   "outputs": [
    {
     "name": "stdout",
     "output_type": "stream",
     "text": [
      "Q10.\n",
      "Rollno: 21052410\n",
      "\n",
      "Enter the angle in degrees: 45\n",
      "The cosine of 45.0 degrees is approximately: 0.7071067811865475\n"
     ]
    }
   ],
   "source": [
    "print('Q10.\\nRollno: 21052410\\n')\n",
    "import math\n",
    "\n",
    "def compute_cos(x, num_terms=10):\n",
    "    result = 0\n",
    "    for n in range(num_terms):\n",
    "        term = ((-1) ** n) * (x ** (2 * n)) / math.factorial(2 * n)\n",
    "        result += term\n",
    "    return result\n",
    "\n",
    "degrees = float(input(\"Enter the angle in degrees: \"))\n",
    "x_radians = math.radians(degrees)\n",
    "num_terms = 10\n",
    "\n",
    "cos_x = compute_cos(x_radians, num_terms)\n",
    "\n",
    "print(f\"The cosine of {degrees} degrees is approximately: {cos_x}\")\n"
   ]
  },
  {
   "cell_type": "markdown",
   "id": "2263dd8f",
   "metadata": {},
   "source": [
    "Q11 Write a Python program that will check the number is prime or composite."
   ]
  },
  {
   "cell_type": "code",
   "execution_count": 16,
   "id": "877b0620",
   "metadata": {},
   "outputs": [
    {
     "name": "stdout",
     "output_type": "stream",
     "text": [
      "Q11.\n",
      "Rollno: 21052410\n",
      "\n",
      "Enter a number: 23\n",
      "23 is a prime number.\n"
     ]
    }
   ],
   "source": [
    "print('Q11.\\nRollno: 21052410\\n')\n",
    "def is_prime(num):\n",
    "    if num <= 1:\n",
    "        return False\n",
    "    for i in range(2, int(num**0.5) + 1):\n",
    "        if num % i == 0:\n",
    "            return False\n",
    "    return True\n",
    "\n",
    "num = int(input(\"Enter a number: \"))\n",
    "\n",
    "if is_prime(num):\n",
    "    print(f\"{num} is a prime number.\")\n",
    "else:\n",
    "    print(f\"{num} is a composite number.\")\n"
   ]
  },
  {
   "cell_type": "markdown",
   "id": "c19de0c3",
   "metadata": {},
   "source": [
    "Q12. Write a Python program that will read two integers and compute GCD and LCM."
   ]
  },
  {
   "cell_type": "code",
   "execution_count": 17,
   "id": "ef4da36a",
   "metadata": {},
   "outputs": [
    {
     "name": "stdout",
     "output_type": "stream",
     "text": [
      "Q12.\n",
      "Rollno: 21052410\n",
      "\n",
      "Enter the first integer: 20\n",
      "Enter the second integer: 5\n",
      "The GCD of 20 and 5 is: 5\n",
      "The LCM of 20 and 5 is: 20\n"
     ]
    }
   ],
   "source": [
    "print('Q12.\\nRollno: 21052410\\n')\n",
    "def compute_gcd(x, y):\n",
    "    while y:\n",
    "        x, y = y, x % y\n",
    "    return abs(x)\n",
    "\n",
    "def compute_lcm(x, y):\n",
    "    return abs(x * y) // compute_gcd(x, y)\n",
    "\n",
    "num1 = int(input(\"Enter the first integer: \"))\n",
    "num2 = int(input(\"Enter the second integer: \"))\n",
    "\n",
    "gcd_result = compute_gcd(num1, num2)\n",
    "lcm_result = compute_lcm(num1, num2)\n",
    "\n",
    "print(f\"The GCD of {num1} and {num2} is: {gcd_result}\")\n",
    "print(f\"The LCM of {num1} and {num2} is: {lcm_result}\")\n"
   ]
  },
  {
   "cell_type": "markdown",
   "id": "e1477737",
   "metadata": {},
   "source": [
    "Q13. Write a Python program that read an integer and print the number of digit."
   ]
  },
  {
   "cell_type": "code",
   "execution_count": 18,
   "id": "b54e2706",
   "metadata": {},
   "outputs": [
    {
     "name": "stdout",
     "output_type": "stream",
     "text": [
      "Q13.\n",
      "Rollno: 21052410\n",
      "\n",
      "Enter an integer: 124\n",
      "The number of digits in 124 is: 3\n"
     ]
    }
   ],
   "source": [
    "print('Q13.\\nRollno: 21052410\\n')\n",
    "def count_digits(number):\n",
    "    return len(str(number))\n",
    "\n",
    "if __name__ == \"__main__\":\n",
    "\n",
    "    try:\n",
    "        user_input = int(input(\"Enter an integer: \"))\n",
    "        num_digits = count_digits(user_input)\n",
    "        print(f\"The number of digits in {user_input} is: {num_digits}\")\n",
    "    \n",
    "    except ValueError:\n",
    "        print(\"Invalid input. Please enter a valid integer.\")\n",
    "\n"
   ]
  },
  {
   "cell_type": "markdown",
   "id": "e77d2f28",
   "metadata": {},
   "source": [
    "Q14. Write a Python program that will read a number and compute sum of the digit \n",
    "Ex: let num= 3456 output should be 18"
   ]
  },
  {
   "cell_type": "code",
   "execution_count": 19,
   "id": "5d4d062b",
   "metadata": {},
   "outputs": [
    {
     "name": "stdout",
     "output_type": "stream",
     "text": [
      "Q14.\n",
      "Rollno: 21052410\n",
      "\n",
      "Enter an integer: 3456\n",
      "The sum of digits in 3456 is: 18\n"
     ]
    }
   ],
   "source": [
    "print('Q14.\\nRollno: 21052410\\n')\n",
    "def sum_of_digits(number):\n",
    "    return sum(int(digit) for digit in str(number))\n",
    "\n",
    "if __name__ == \"__main__\":\n",
    "    try:\n",
    "        user_input = int(input(\"Enter an integer: \"))\n",
    "        digit_sum = sum_of_digits(user_input)\n",
    "        print(f\"The sum of digits in {user_input} is: {digit_sum}\")\n",
    "    \n",
    "    except ValueError:\n",
    "        print(\"Invalid input. Please enter a valid integer.\")\n"
   ]
  },
  {
   "cell_type": "markdown",
   "id": "fde70074",
   "metadata": {},
   "source": [
    "Q15. Write a Python program that will reverse an integer \n",
    "i.e num =3456 reverse num=6543"
   ]
  },
  {
   "cell_type": "code",
   "execution_count": 20,
   "id": "1998a539",
   "metadata": {},
   "outputs": [
    {
     "name": "stdout",
     "output_type": "stream",
     "text": [
      "Q15.\n",
      "Rollno: 21052410\n",
      "\n",
      "Enter an integer: 3456\n",
      "The reversed integer is: 6543\n"
     ]
    }
   ],
   "source": [
    "print('Q15.\\nRollno: 21052410\\n')\n",
    "\n",
    "def reverse_integer(number):\n",
    "    reversed_number = int(str(number)[::-1])\n",
    "    return reversed_number\n",
    "user_input = input(\"Enter an integer: \")\n",
    "\n",
    "try:\n",
    "    user_number = int(user_input)\n",
    "    reversed_result = reverse_integer(user_number)\n",
    "\n",
    "    print(f\"The reversed integer is: {reversed_result}\")\n",
    "\n",
    "except ValueError:\n",
    "    print(\"Invalid input. Please enter a valid integer.\")\n"
   ]
  },
  {
   "cell_type": "markdown",
   "id": "f241f540",
   "metadata": {},
   "source": [
    "Q16. Write a Python program that will check a number is palindrome or not.\n",
    "i.e 12321 is a palindrome"
   ]
  },
  {
   "cell_type": "code",
   "execution_count": 21,
   "id": "9b0685ad",
   "metadata": {},
   "outputs": [
    {
     "name": "stdout",
     "output_type": "stream",
     "text": [
      "Q16.\n",
      "Rollno: 21052410\n",
      "\n",
      "Enter a number: 12321\n",
      "12321 is a palindrome.\n"
     ]
    }
   ],
   "source": [
    "print('Q16.\\nRollno: 21052410\\n')\n",
    "def is_palindrome(number):\n",
    "    str_number = str(number)\n",
    "    return str_number == str_number[::-1]\n",
    "\n",
    "user_input = input(\"Enter a number: \")\n",
    "\n",
    "try:\n",
    "    user_number = int(user_input)\n",
    "    if is_palindrome(user_number):\n",
    "        print(f\"{user_number} is a palindrome.\")\n",
    "    else:\n",
    "        print(f\"{user_number} is not a palindrome.\")\n",
    "\n",
    "except ValueError:\n",
    "    print(\"Invalid input. Please enter a valid number.\")\n",
    "\n"
   ]
  },
  {
   "cell_type": "markdown",
   "id": "4bb925bb",
   "metadata": {},
   "source": [
    "Q17. Write a python program to find the Fibonacci series up to nth term."
   ]
  },
  {
   "cell_type": "code",
   "execution_count": 22,
   "id": "234c03ab",
   "metadata": {},
   "outputs": [
    {
     "name": "stdout",
     "output_type": "stream",
     "text": [
      "Q17.\n",
      "Rollno: 21052410\n",
      "\n",
      "Enter the number of terms for the Fibonacci series: 5\n",
      "Fibonacci series up to the 5th term: [0, 1, 1, 2, 3]\n"
     ]
    }
   ],
   "source": [
    "print('Q17.\\nRollno: 21052410\\n')\n",
    "def fibonacci_series(n):\n",
    "    fib_series = [0, 1]\n",
    "\n",
    "    while len(fib_series) < n:\n",
    "        next_term = fib_series[-1] + fib_series[-2]\n",
    "        fib_series.append(next_term)\n",
    "\n",
    "    return fib_series[:n]\n",
    "\n",
    "try:\n",
    "    n = int(input(\"Enter the number of terms for the Fibonacci series: \"))\n",
    "    if n <= 0:\n",
    "        raise ValueError(\"Please enter a positive integer.\")\n",
    "    result = fibonacci_series(n)\n",
    "    print(f\"Fibonacci series up to the {n}th term: {result}\")\n",
    "\n",
    "except ValueError as e:\n",
    "    print(f\"Error: {e}\")\n"
   ]
  },
  {
   "cell_type": "markdown",
   "id": "7aca6377",
   "metadata": {},
   "source": [
    "Q18. Write a Python program to check the number is Armstrong or not. For example, 371 is \n",
    "an Armstrong number since 3*3*3 + 7*7*7 + 1*1*1 = 371."
   ]
  },
  {
   "cell_type": "code",
   "execution_count": 24,
   "id": "436e1605",
   "metadata": {},
   "outputs": [
    {
     "name": "stdout",
     "output_type": "stream",
     "text": [
      "Q18.\n",
      "Rollno: 21052410\n",
      "\n",
      "Enter a number: 371\n",
      "371 is an Armstrong number.\n"
     ]
    }
   ],
   "source": [
    "print('Q18.\\nRollno: 21052410\\n')\n",
    "def is_armstrong_number(number):\n",
    "    num_str = str(number)\n",
    "    num_digits = len(num_str)\n",
    "    armstrong_sum = sum(int(digit) ** num_digits for digit in num_str)\n",
    "    return armstrong_sum == number\n",
    "\n",
    "user_input = input(\"Enter a number: \")\n",
    "\n",
    "try:\n",
    "    user_number = int(user_input)\n",
    "\n",
    "    if is_armstrong_number(user_number):\n",
    "        print(f\"{user_number} is an Armstrong number.\")\n",
    "    else:\n",
    "        print(f\"{user_number} is not an Armstrong number.\")\n",
    "\n",
    "except ValueError:\n",
    "    print(\"Invalid input. Please enter a valid number.\")\n",
    "\n"
   ]
  },
  {
   "cell_type": "markdown",
   "id": "c82f579e",
   "metadata": {},
   "source": [
    "Q19. Write a Python program that will display the prime’s number between M and N."
   ]
  },
  {
   "cell_type": "code",
   "execution_count": 25,
   "id": "5cce69f3",
   "metadata": {},
   "outputs": [
    {
     "name": "stdout",
     "output_type": "stream",
     "text": [
      "Q19.\n",
      "Rollno: 21052410\n",
      "\n",
      "Enter the value of M: 3\n",
      "Enter the value of N: 9\n",
      "Prime numbers between 3 and 9: [3, 5, 7]\n"
     ]
    }
   ],
   "source": [
    "print('Q19.\\nRollno: 21052410\\n')\n",
    "def is_prime(num):\n",
    "    if num < 2:\n",
    "        return False\n",
    "    for i in range(2, int(num**0.5) + 1):\n",
    "        if num % i == 0:\n",
    "            return False\n",
    "    return True\n",
    "\n",
    "def display_primes_between_m_and_n(m, n):\n",
    "    primes = [num for num in range(m, n+1) if is_prime(num)]\n",
    "    return primes\n",
    "\n",
    "try:\n",
    "    m = int(input(\"Enter the value of M: \"))\n",
    "    n = int(input(\"Enter the value of N: \"))\n",
    "\n",
    "    if m < 0 or n < 0:\n",
    "        raise ValueError(\"Please enter non-negative integers.\")\n",
    "\n",
    "    if m > n:\n",
    "        raise ValueError(\"M should be less than or equal to N.\")\n",
    "\n",
    "    result = display_primes_between_m_and_n(m, n)\n",
    "    print(f\"Prime numbers between {m} and {n}: {result}\")\n",
    "\n",
    "except ValueError as e:\n",
    "    print(f\"Error: {e}\")\n"
   ]
  },
  {
   "cell_type": "markdown",
   "id": "01940642",
   "metadata": {},
   "source": [
    "Q20. Write a python program that will take a positive integer (num say) as input and display \n",
    "the positive numbers, which are less than num and relatively prime to num."
   ]
  },
  {
   "cell_type": "code",
   "execution_count": 26,
   "id": "c17d0c8c",
   "metadata": {},
   "outputs": [
    {
     "name": "stdout",
     "output_type": "stream",
     "text": [
      "Q20.\n",
      "Rollno: 21052410\n",
      "\n",
      "Enter a positive integer (num): 12\n",
      "Positive numbers less than 12 that are relatively prime to 12: [1, 5, 7, 11]\n"
     ]
    }
   ],
   "source": [
    "print('Q20.\\nRollno: 21052410\\n')\n",
    "def gcd(a, b):\n",
    "    while b:\n",
    "        a, b = b, a % b\n",
    "    return a\n",
    "\n",
    "def relatively_prime_numbers(num):\n",
    "    return [i for i in range(1, num) if gcd(num, i) == 1]\n",
    "\n",
    "try:\n",
    "    num = int(input(\"Enter a positive integer (num): \"))\n",
    "\n",
    "    if num <= 0:\n",
    "        raise ValueError(\"Please enter a positive integer.\")\n",
    "\n",
    "    result = relatively_prime_numbers(num)\n",
    "    print(f\"Positive numbers less than {num} that are relatively prime to {num}: {result}\")\n",
    "\n",
    "except ValueError as e:\n",
    "    print(f\"Error: {e}\")\n"
   ]
  },
  {
   "cell_type": "markdown",
   "id": "1e92926a",
   "metadata": {},
   "source": [
    "Q21. Write python programs that will print the following output.\n",
    "a.\n",
    "1\n",
    "1 2\n",
    "1 2 3\n",
    "1 2 3 4"
   ]
  },
  {
   "cell_type": "code",
   "execution_count": 27,
   "id": "499440f2",
   "metadata": {},
   "outputs": [
    {
     "name": "stdout",
     "output_type": "stream",
     "text": [
      "Q21->a.\n",
      "Rollno: 21052410\n",
      "\n",
      "1 \n",
      "1 2 \n",
      "1 2 3 \n",
      "1 2 3 4 \n"
     ]
    }
   ],
   "source": [
    "print('Q21->a.\\nRollno: 21052410\\n')\n",
    "def print_pattern_a(rows):\n",
    "    for i in range(1, rows + 1):\n",
    "        for j in range(1, i + 1):\n",
    "            print(j, end=\" \")\n",
    "        print()\n",
    "\n",
    "print_pattern_a(4)\n"
   ]
  },
  {
   "cell_type": "markdown",
   "id": "dbf13442",
   "metadata": {},
   "source": [
    "b.\n",
    "1\n",
    "2 2\n",
    "3 3 3\n",
    "4 4 4 4"
   ]
  },
  {
   "cell_type": "code",
   "execution_count": 28,
   "id": "153c7762",
   "metadata": {},
   "outputs": [
    {
     "name": "stdout",
     "output_type": "stream",
     "text": [
      "Q21->b.\n",
      "Rollno: 21052410\n",
      "\n",
      "1 \n",
      "2 2 \n",
      "3 3 3 \n",
      "4 4 4 4 \n"
     ]
    }
   ],
   "source": [
    "print('Q21->b.\\nRollno: 21052410\\n')\n",
    "def print_pattern_b(rows):\n",
    "    for i in range(1, rows + 1):\n",
    "        for j in range(1, i + 1):\n",
    "            print(i, end=\" \")\n",
    "        print()\n",
    "\n",
    "print_pattern_b(4)\n"
   ]
  },
  {
   "cell_type": "markdown",
   "id": "883ab8f8",
   "metadata": {},
   "source": [
    "c.\n",
    "A A A A A A \n",
    "A         A\n",
    "A         A\n",
    "A         A\n",
    "A A A A A A"
   ]
  },
  {
   "cell_type": "code",
   "execution_count": 30,
   "id": "7f0bfe65",
   "metadata": {},
   "outputs": [
    {
     "name": "stdout",
     "output_type": "stream",
     "text": [
      "Q21->c.\n",
      "Rollno: 21052410\n",
      "\n",
      "A A A A A A \n",
      "A         A \n",
      "A         A \n",
      "A         A \n",
      "A A A A A A \n"
     ]
    }
   ],
   "source": [
    "print('Q21->c.\\nRollno: 21052410\\n')\n",
    "def print_pattern_c(rows, columns):\n",
    "    for i in range(rows):\n",
    "        for j in range(columns):\n",
    "            if i == 0 or i == rows - 1 or j == 0 or j == columns - 1:\n",
    "                print(\"A\", end=\" \")\n",
    "            else:\n",
    "                print(\" \", end=\" \")\n",
    "        print()\n",
    "\n",
    "print_pattern_c(5, 6)\n"
   ]
  },
  {
   "cell_type": "markdown",
   "id": "ec3d674a",
   "metadata": {},
   "source": [
    "d.\n",
    "a\n",
    "a b\n",
    "a b c"
   ]
  },
  {
   "cell_type": "code",
   "execution_count": 31,
   "id": "79ac21fe",
   "metadata": {},
   "outputs": [
    {
     "name": "stdout",
     "output_type": "stream",
     "text": [
      "Q21->d.\n",
      "Rollno: 21052410\n",
      "\n",
      "a \n",
      "a b \n",
      "a b c \n"
     ]
    }
   ],
   "source": [
    "print('Q21->d.\\nRollno: 21052410\\n')\n",
    "def print_pattern_d(rows):\n",
    "    for i in range(rows):\n",
    "        for j in range(i + 1):\n",
    "            print(chr(ord('a') + j), end=\" \")\n",
    "        print()\n",
    "\n",
    "print_pattern_d(3)\n"
   ]
  },
  {
   "cell_type": "markdown",
   "id": "a45a52e3",
   "metadata": {},
   "source": [
    "e. \n",
    " aaaaaa\n",
    " aaaaa\n",
    " aaaa\n",
    " aaa\n",
    " aa\n",
    " a"
   ]
  },
  {
   "cell_type": "code",
   "execution_count": 32,
   "id": "e504e1b9",
   "metadata": {},
   "outputs": [
    {
     "name": "stdout",
     "output_type": "stream",
     "text": [
      "Q21->e.\n",
      "Rollno: 21052410\n",
      "\n",
      "aaaaaa\n",
      " aaaaa\n",
      "  aaaa\n",
      "   aaa\n",
      "    aa\n",
      "     a\n"
     ]
    }
   ],
   "source": [
    "print('Q21->e.\\nRollno: 21052410\\n')\n",
    "def print_pattern_e(rows):\n",
    "    for i in range(rows):\n",
    "        print(\" \" * i + \"a\" * (rows - i))\n",
    "\n",
    "print_pattern_e(6)\n"
   ]
  },
  {
   "cell_type": "markdown",
   "id": "6d881df7",
   "metadata": {},
   "source": [
    "f.\n",
    " *\n",
    " * * *\n",
    " * * * * *\n",
    " * * * * * * *\n",
    " * * * * * * * * *"
   ]
  },
  {
   "cell_type": "code",
   "execution_count": 33,
   "id": "24a019f1",
   "metadata": {},
   "outputs": [
    {
     "name": "stdout",
     "output_type": "stream",
     "text": [
      "Q21->f.\n",
      "Rollno: 21052410\n",
      "\n",
      "        * \n",
      "      * * * \n",
      "    * * * * * \n",
      "  * * * * * * * \n",
      "* * * * * * * * * \n"
     ]
    }
   ],
   "source": [
    "print('Q21->f.\\nRollno: 21052410\\n')\n",
    "def print_pattern_f(rows):\n",
    "    for i in range(rows):\n",
    "        print(\" \" * (2 * (rows - i - 1)) + \"* \" * (2 * i + 1))\n",
    "\n",
    "print_pattern_f(5)\n"
   ]
  },
  {
   "cell_type": "markdown",
   "id": "ab4a1a34",
   "metadata": {},
   "source": [
    "g.\n",
    "        1\n",
    "      2 3 2\n",
    "    3 4 5 4 3\n",
    "  4 5 6 7 6 5 4\n",
    "5 6 7 8 9 8 7 6 5"
   ]
  },
  {
   "cell_type": "code",
   "execution_count": 34,
   "id": "46ec3356",
   "metadata": {},
   "outputs": [
    {
     "name": "stdout",
     "output_type": "stream",
     "text": [
      "Q21->g.\n",
      "Rollno: 21052410\n",
      "\n",
      "        1 \n",
      "      2 3 2 \n",
      "    3 4 5 4 3 \n",
      "  4 5 6 7 6 5 4 \n",
      "5 6 7 8 9 8 7 6 5 \n"
     ]
    }
   ],
   "source": [
    "print('Q21->g.\\nRollno: 21052410\\n')\n",
    "def print_pattern_g(rows):\n",
    "    for i in range(1, rows + 1):\n",
    "        print(\" \" * (2 * (rows - i)), end=\"\")\n",
    "\n",
    "        for j in range(i, 2 * i):\n",
    "            print(j, end=\" \")\n",
    "\n",
    "        for j in range(2 * i - 2, i - 1, -1):\n",
    "            print(j, end=\" \")\n",
    "\n",
    "        print()\n",
    "\n",
    "print_pattern_g(5)\n",
    "\n"
   ]
  },
  {
   "cell_type": "markdown",
   "id": "7ee0d8e2",
   "metadata": {},
   "source": [
    "h.\n",
    "      1\n",
    "     1 1\n",
    "    1 2 1\n",
    "   1 3 3 1\n",
    "  1 4 6 4 1\n",
    "1 5 10 10 5 1"
   ]
  },
  {
   "cell_type": "code",
   "execution_count": 35,
   "id": "480da552",
   "metadata": {},
   "outputs": [
    {
     "name": "stdout",
     "output_type": "stream",
     "text": [
      "Q21->h.\n",
      "Rollno: 21052410\n",
      "\n",
      "            1   \n",
      "          1   1   \n",
      "        1   2   1   \n",
      "      1   3   3   1   \n",
      "    1   4   6   4   1   \n",
      "  1   5   10   10   5   1   \n"
     ]
    }
   ],
   "source": [
    "print('Q21->h.\\nRollno: 21052410\\n')\n",
    "def print_pattern_h(rows):\n",
    "    for i in range(rows):\n",
    "        print(\" \" * (2 * (rows - i)), end=\"\")\n",
    "        for j in range(0, i + 1):\n",
    "            print(binomial_coefficient(i, j), end=\"   \")\n",
    "\n",
    "        print()\n",
    "\n",
    "def binomial_coefficient(n, k):\n",
    "    result = 1\n",
    "    if k > n - k:\n",
    "        k = n - k\n",
    "    for i in range(k):\n",
    "        result *= (n - i)\n",
    "        result //= (i + 1)\n",
    "    return result\n",
    "\n",
    "print_pattern_h(6)\n"
   ]
  }
 ],
 "metadata": {
  "kernelspec": {
   "display_name": "Python 3 (ipykernel)",
   "language": "python",
   "name": "python3"
  },
  "language_info": {
   "codemirror_mode": {
    "name": "ipython",
    "version": 3
   },
   "file_extension": ".py",
   "mimetype": "text/x-python",
   "name": "python",
   "nbconvert_exporter": "python",
   "pygments_lexer": "ipython3",
   "version": "3.11.5"
  }
 },
 "nbformat": 4,
 "nbformat_minor": 5
}
