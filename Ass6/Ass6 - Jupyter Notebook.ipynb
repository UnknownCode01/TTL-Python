{
 "cells": [
  {
   "cell_type": "markdown",
   "id": "97a96b8f",
   "metadata": {},
   "source": [
    "Q1. Ms. Gabriel Williams is a botany professor at District College. One day, she asked her student Mickey to compute the average of all the plants with distinct heights in her greenhouse.\n",
    "Formula used:\n",
    "Average = Sum of distinct heights/ Total no of distinct heights"
   ]
  },
  {
   "cell_type": "code",
   "execution_count": 3,
   "id": "284ba50e",
   "metadata": {},
   "outputs": [
    {
     "name": "stdout",
     "output_type": "stream",
     "text": [
      "21052410\n",
      "Enter the no of plants: 3\n",
      "100\n",
      "103\n",
      "100\n",
      "Average Height:  101.0\n"
     ]
    }
   ],
   "source": [
    "print('21052410')\n",
    "n=int(input(\"Enter the no of plants: \"))\n",
    "a=0\n",
    "for i in range(n):\n",
    "    a+=int(input())\n",
    "print('Average Height: ',a/n)"
   ]
  },
  {
   "cell_type": "markdown",
   "id": "9f9d1342",
   "metadata": {},
   "source": [
    "Q2. The students of District College have subscriptions to English and French newspapers. Some students \n",
    "have subscribed only to English, some have subscribed only to French, and some have subscribed to \n",
    "both newspapers.\n",
    "You are given two sets of student roll numbers. One set has subscribed to the English newspaper, one \n",
    "set has subscribed to the French newspaper. Your task is to find the total number of students who have \n",
    "subscribed to both newspapers."
   ]
  },
  {
   "cell_type": "code",
   "execution_count": 4,
   "id": "ab8ca0e5",
   "metadata": {},
   "outputs": [
    {
     "name": "stdout",
     "output_type": "stream",
     "text": [
      "21052410\n",
      "Enter English news paper Subscribers: \n",
      "1 2 3\n",
      "Enter French news paper Subscribers: \n",
      "2 4 1\n",
      "Students with both subscription:  {1, 2}\n"
     ]
    }
   ],
   "source": [
    "print('21052410')\n",
    "print(\"Enter English news paper Subscribers: \")\n",
    "\n",
    "s1=set(map(int,str(input()).split()))\n",
    "print(\"Enter French news paper Subscribers: \")\n",
    "s2=set(map(int,str(input()).split()))\n",
    "\n",
    "print('Students with both subscription: ',s1.intersection(s2))"
   ]
  },
  {
   "cell_type": "markdown",
   "id": "4bcd4a6a",
   "metadata": {},
   "source": [
    "Q3. You are given a set and number of other sets. These number of sets have to perform some specific \n",
    "mutation operations on set .\n",
    "Your task is to execute those operations and print the sum of elements from set ."
   ]
  },
  {
   "cell_type": "code",
   "execution_count": 5,
   "id": "3d094ed4",
   "metadata": {},
   "outputs": [
    {
     "name": "stdout",
     "output_type": "stream",
     "text": [
      "21052410\n",
      "16\n",
      "1 2 3 4 5 6 7 8 9 10 11 12 13 14 24 52\n",
      "4\n",
      "intersection_update 10\n",
      "2 3 5 6 8 9 1 4 7 11\n",
      "update 2\n",
      "55 56\n",
      "symmetric_difference_update 5\n",
      "22 7 35 62 58\n",
      "difference_update 7\n",
      "11 22 35 55 58 62 66\n",
      "94\n"
     ]
    }
   ],
   "source": [
    "def perform_operations(main_set, num_operations, operations):\n",
    "    for operation in operations:\n",
    "        op_name, op_len = operation[0], operation[1]\n",
    "        op_set = set(map(int, operation[2].split()))\n",
    "        \n",
    "        if op_name == 'intersection_update':\n",
    "            main_set.intersection_update(op_set)\n",
    "        elif op_name == 'update':\n",
    "            main_set.update(op_set)\n",
    "        elif op_name == 'symmetric_difference_update':\n",
    "            main_set.symmetric_difference_update(op_set)\n",
    "        elif op_name == 'difference_update':\n",
    "            main_set.difference_update(op_set)\n",
    "    \n",
    "    return sum(main_set)\n",
    "\n",
    "if __name__ == '__main__':\n",
    "    print('21052410')\n",
    "    main_set_len = int(input())\n",
    "    main_set = set(map(int, input().split()))\n",
    "    num_operations = int(input())\n",
    "    \n",
    "    operations = []\n",
    "    for _ in range(num_operations):\n",
    "        op_name_len = input().split()\n",
    "        op_name = op_name_len[0]\n",
    "        op_len = int(op_name_len[1])\n",
    "        op_elements = input()\n",
    "        operations.append((op_name, op_len, op_elements))\n",
    "    \n",
    "    result = perform_operations(main_set, num_operations, operations)\n",
    "    print(result)\n",
    "\n",
    "            "
   ]
  }
 ],
 "metadata": {
  "kernelspec": {
   "display_name": "Python 3 (ipykernel)",
   "language": "python",
   "name": "python3"
  },
  "language_info": {
   "codemirror_mode": {
    "name": "ipython",
    "version": 3
   },
   "file_extension": ".py",
   "mimetype": "text/x-python",
   "name": "python",
   "nbconvert_exporter": "python",
   "pygments_lexer": "ipython3",
   "version": "3.11.5"
  }
 },
 "nbformat": 4,
 "nbformat_minor": 5
}
