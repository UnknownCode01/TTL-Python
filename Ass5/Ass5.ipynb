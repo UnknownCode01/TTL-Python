{
 "cells": [
  {
   "cell_type": "markdown",
   "id": "12601aec",
   "metadata": {},
   "source": [
    "1. Write a program to find the sum of all elements of a list."
   ]
  },
  {
   "cell_type": "code",
   "execution_count": 1,
   "id": "64e0f22d",
   "metadata": {},
   "outputs": [
    {
     "name": "stdout",
     "output_type": "stream",
     "text": [
      "Q1\n",
      "Rollno: 21052410\n",
      "The sum of the elements in the list is: 15\n"
     ]
    }
   ],
   "source": [
    "print('Q1\\nRollno: 21052410')\n",
    "def find_sum_of_elements(my_list):\n",
    "    total_sum = sum(my_list)\n",
    "    return total_sum\n",
    "\n",
    "sample_list = [1, 2, 3, 4, 5]\n",
    "result = find_sum_of_elements(sample_list)\n",
    "\n",
    "print(f\"The sum of the elements in the list is: {result}\")\n"
   ]
  },
  {
   "cell_type": "markdown",
   "id": "a2fb1f68",
   "metadata": {},
   "source": [
    "2. Write a program to find the maximum and minimum element of a list."
   ]
  },
  {
   "cell_type": "code",
   "execution_count": 2,
   "id": "072c13b7",
   "metadata": {},
   "outputs": [
    {
     "name": "stdout",
     "output_type": "stream",
     "text": [
      "Q2\n",
      "Rollno: 21052410\n",
      "The maximum element in the list is: 9\n",
      "The minimum element in the list is: 1\n"
     ]
    }
   ],
   "source": [
    "print('Q2\\nRollno: 21052410')\n",
    "def find_max_min_elements(my_list):\n",
    "    max_element = max(my_list)\n",
    "    min_element = min(my_list)\n",
    "    return max_element, min_element\n",
    "\n",
    "sample_list = [3, 1, 7, 4, 5, 9, 2]\n",
    "max_result, min_result = find_max_min_elements(sample_list)\n",
    "\n",
    "print(f\"The maximum element in the list is: {max_result}\")\n",
    "print(f\"The minimum element in the list is: {min_result}\")\n"
   ]
  },
  {
   "cell_type": "markdown",
   "id": "bce46b8b",
   "metadata": {},
   "source": [
    "3. Write a program to find the position of maximum and minimum element’s position in a list."
   ]
  },
  {
   "cell_type": "code",
   "execution_count": 3,
   "id": "7ff6276f",
   "metadata": {},
   "outputs": [
    {
     "name": "stdout",
     "output_type": "stream",
     "text": [
      "Q3\n",
      "Rollno: 21052410\n",
      "The position of the maximum element in the list is: 5\n",
      "The position of the minimum element in the list is: 1\n"
     ]
    }
   ],
   "source": [
    "print('Q3\\nRollno: 21052410')\n",
    "def find_max_min_positions(my_list):\n",
    "    max_element = max(my_list)\n",
    "    min_element = min(my_list)\n",
    "    \n",
    "    max_position = my_list.index(max_element)\n",
    "    min_position = my_list.index(min_element)\n",
    "    \n",
    "    return max_position, min_position\n",
    "\n",
    "sample_list = [3, 1, 7, 4, 5, 9, 2]\n",
    "max_position, min_position = find_max_min_positions(sample_list)\n",
    "\n",
    "print(f\"The position of the maximum element in the list is: {max_position}\")\n",
    "print(f\"The position of the minimum element in the list is: {min_position}\")\n"
   ]
  },
  {
   "cell_type": "markdown",
   "id": "eefb26db",
   "metadata": {},
   "source": [
    "4. Write a program to print all the element in a list that are greater than a given value."
   ]
  },
  {
   "cell_type": "code",
   "execution_count": 4,
   "id": "32633730",
   "metadata": {},
   "outputs": [
    {
     "name": "stdout",
     "output_type": "stream",
     "text": [
      "Q4\n",
      "Rollno: 21052410\n",
      "Elements in the list greater than 5: [7, 9]\n"
     ]
    }
   ],
   "source": [
    "print('Q4\\nRollno: 21052410')\n",
    "def print_elements_greater_than_value(my_list, value):\n",
    "    filtered_elements = [element for element in my_list if element > value]\n",
    "    return filtered_elements\n",
    "\n",
    "sample_list = [3, 1, 7, 4, 5, 9, 2]\n",
    "given_value = 5\n",
    "\n",
    "result = print_elements_greater_than_value(sample_list, given_value)\n",
    "\n",
    "print(f\"Elements in the list greater than {given_value}: {result}\")\n"
   ]
  },
  {
   "cell_type": "markdown",
   "id": "6ee5150e",
   "metadata": {},
   "source": [
    "5. Write a program to print all the common elements of 2 list."
   ]
  },
  {
   "cell_type": "code",
   "execution_count": 5,
   "id": "2c9920f0",
   "metadata": {},
   "outputs": [
    {
     "name": "stdout",
     "output_type": "stream",
     "text": [
      "Q5\n",
      "Rollno: 21052410\n",
      "Common elements of the two lists: [3, 4, 5]\n"
     ]
    }
   ],
   "source": [
    "print('Q5\\nRollno: 21052410')\n",
    "def find_common_elements(list1, list2):\n",
    "    common_elements = list(set(list1) & set(list2))\n",
    "    return common_elements\n",
    "\n",
    "list1 = [1, 2, 3, 4, 5]\n",
    "list2 = [3, 4, 5, 6, 7]\n",
    "\n",
    "common_elements_result = find_common_elements(list1, list2)\n",
    "\n",
    "print(f\"Common elements of the two lists: {common_elements_result}\")\n"
   ]
  },
  {
   "cell_type": "markdown",
   "id": "16450f52",
   "metadata": {},
   "source": [
    "6. Write a program to reverse a list."
   ]
  },
  {
   "cell_type": "code",
   "execution_count": 6,
   "id": "3bca1255",
   "metadata": {},
   "outputs": [
    {
     "name": "stdout",
     "output_type": "stream",
     "text": [
      "Q6\n",
      "Rollno: 21052410\n",
      "Original List: [1, 2, 3, 4, 5]\n",
      "Reversed List: [5, 4, 3, 2, 1]\n"
     ]
    }
   ],
   "source": [
    "print('Q6\\nRollno: 21052410')\n",
    "def reverse_list(my_list):\n",
    "    reversed_list = my_list[::-1]\n",
    "    return reversed_list\n",
    "\n",
    "sample_list = [1, 2, 3, 4, 5]\n",
    "\n",
    "reversed_result = reverse_list(sample_list)\n",
    "\n",
    "print(f\"Original List: {sample_list}\")\n",
    "print(f\"Reversed List: {reversed_result}\")\n"
   ]
  },
  {
   "cell_type": "markdown",
   "id": "68991c10",
   "metadata": {},
   "source": [
    "7. Write a program to find the second largest and second smallest value from a list."
   ]
  },
  {
   "cell_type": "code",
   "execution_count": 7,
   "id": "01acb025",
   "metadata": {},
   "outputs": [
    {
     "name": "stdout",
     "output_type": "stream",
     "text": [
      "Q7\n",
      "Rollno: 21052410\n",
      "The second largest value in the list is: 7\n",
      "The second smallest value in the list is: 2\n"
     ]
    }
   ],
   "source": [
    "print('Q7\\nRollno: 21052410')\n",
    "def find_second_largest_smallest(my_list):\n",
    "    sorted_list = sorted(my_list)\n",
    "\n",
    "    second_smallest = sorted_list[1]\n",
    "    second_largest = sorted_list[-2]\n",
    "\n",
    "    return second_largest, second_smallest\n",
    "\n",
    "sample_list = [3, 1, 7, 4, 5, 9, 2]\n",
    "\n",
    "second_largest, second_smallest = find_second_largest_smallest(sample_list)\n",
    "\n",
    "print(f\"The second largest value in the list is: {second_largest}\")\n",
    "print(f\"The second smallest value in the list is: {second_smallest}\")\n"
   ]
  },
  {
   "cell_type": "markdown",
   "id": "f4ed7e66",
   "metadata": {},
   "source": [
    "8. Write a program to find the average of all elements in a list."
   ]
  },
  {
   "cell_type": "code",
   "execution_count": 8,
   "id": "cc1b3fcb",
   "metadata": {},
   "outputs": [
    {
     "name": "stdout",
     "output_type": "stream",
     "text": [
      "Q8\n",
      "Rollno: 21052410\n",
      "The average of the elements in the list is: 3.0\n"
     ]
    }
   ],
   "source": [
    "print('Q8\\nRollno: 21052410')\n",
    "def find_average(my_list):\n",
    "    total_sum = sum(my_list)\n",
    "    average = total_sum / len(my_list)\n",
    "\n",
    "    return average\n",
    "\n",
    "sample_list = [1, 2, 3, 4, 5]\n",
    "average_result = find_average(sample_list)\n",
    "\n",
    "print(f\"The average of the elements in the list is: {average_result}\")\n"
   ]
  },
  {
   "cell_type": "markdown",
   "id": "27aecc70",
   "metadata": {},
   "source": [
    "9. Write a program to to generate random numbers within a given range and store it in a list."
   ]
  },
  {
   "cell_type": "code",
   "execution_count": 9,
   "id": "0598adfb",
   "metadata": {},
   "outputs": [
    {
     "name": "stdout",
     "output_type": "stream",
     "text": [
      "Q9\n",
      "Rollno: 21052410\n",
      "Generated random numbers: [30, 31, 32, 14, 61]\n"
     ]
    }
   ],
   "source": [
    "print('Q9\\nRollno: 21052410')\n",
    "import random\n",
    "\n",
    "def generate_random_numbers(start, end, count):\n",
    "    random_numbers = [random.randint(start, end) for _ in range(count)]\n",
    "    return random_numbers\n",
    "\n",
    "start_range = 1\n",
    "end_range = 100\n",
    "number_of_random_numbers = 5\n",
    "\n",
    "random_numbers_list = generate_random_numbers(start_range, end_range, number_of_random_numbers)\n",
    "\n",
    "print(f\"Generated random numbers: {random_numbers_list}\")\n"
   ]
  },
  {
   "cell_type": "markdown",
   "id": "4af7c7f2",
   "metadata": {},
   "source": [
    "10. Write a program to split the even and odd elements into 2 different lists."
   ]
  },
  {
   "cell_type": "code",
   "execution_count": 10,
   "id": "c416adb5",
   "metadata": {},
   "outputs": [
    {
     "name": "stdout",
     "output_type": "stream",
     "text": [
      "Q10\n",
      "Rollno: 21052410\n",
      "Original List: [1, 2, 3, 4, 5, 6, 7, 8, 9]\n",
      "Even Elements: [2, 4, 6, 8]\n",
      "Odd Elements: [1, 3, 5, 7, 9]\n"
     ]
    }
   ],
   "source": [
    "print('Q10\\nRollno: 21052410')\n",
    "def split_even_odd_elements(my_list):\n",
    "    even_elements = [element for element in my_list if element % 2 == 0]\n",
    "    odd_elements = [element for element in my_list if element % 2 != 0]\n",
    "    return even_elements, odd_elements\n",
    "\n",
    "sample_list = [1, 2, 3, 4, 5, 6, 7, 8, 9]\n",
    "\n",
    "even_elements_list, odd_elements_list = split_even_odd_elements(sample_list)\n",
    "\n",
    "print(f\"Original List: {sample_list}\")\n",
    "print(f\"Even Elements: {even_elements_list}\")\n",
    "print(f\"Odd Elements: {odd_elements_list}\")\n"
   ]
  },
  {
   "cell_type": "markdown",
   "id": "e6bbbf51",
   "metadata": {},
   "source": [
    "11. Write a Python program to create a tuple"
   ]
  },
  {
   "cell_type": "code",
   "execution_count": 11,
   "id": "ae8faeb9",
   "metadata": {},
   "outputs": [
    {
     "name": "stdout",
     "output_type": "stream",
     "text": [
      "Q11\n",
      "Rollno: 21052410\n",
      "Tuple: (1, 2, 'hello', 3.14, True)\n"
     ]
    }
   ],
   "source": [
    "print('Q11\\nRollno: 21052410')\n",
    "my_tuple = (1, 2, 'hello', 3.14, True)\n",
    "\n",
    "print(\"Tuple:\", my_tuple)\n"
   ]
  },
  {
   "cell_type": "markdown",
   "id": "eeb6f3e4",
   "metadata": {},
   "source": [
    "12. Write a Python program to create a tuple with different data types."
   ]
  },
  {
   "cell_type": "code",
   "execution_count": 12,
   "id": "7b447945",
   "metadata": {},
   "outputs": [
    {
     "name": "stdout",
     "output_type": "stream",
     "text": [
      "Q12\n",
      "Rollno: 21052410\n",
      "Mixed Tuple: (1, 'hello', 3.14, True, [5, 6, 7])\n"
     ]
    }
   ],
   "source": [
    "print('Q12\\nRollno: 21052410')\n",
    "mixed_tuple = (1, 'hello', 3.14, True, [5, 6, 7])\n",
    "\n",
    "print(\"Mixed Tuple:\", mixed_tuple)\n"
   ]
  },
  {
   "cell_type": "markdown",
   "id": "bda56ff2",
   "metadata": {},
   "source": [
    "13. Write a Python program to unpack a tuple in several variables."
   ]
  },
  {
   "cell_type": "code",
   "execution_count": 13,
   "id": "b8b55708",
   "metadata": {},
   "outputs": [
    {
     "name": "stdout",
     "output_type": "stream",
     "text": [
      "Q13\n",
      "Rollno: 21052410\n",
      "Variable a: 1\n",
      "Variable b: hello\n",
      "Variable c: 3.14\n"
     ]
    }
   ],
   "source": [
    "print('Q13\\nRollno: 21052410')\n",
    "my_tuple = (1, 'hello', 3.14)\n",
    "\n",
    "a, b, c = my_tuple\n",
    "\n",
    "print(\"Variable a:\", a)\n",
    "print(\"Variable b:\", b)\n",
    "print(\"Variable c:\", c)\n"
   ]
  },
  {
   "cell_type": "markdown",
   "id": "066e5075",
   "metadata": {},
   "source": [
    "14. Write a Python program to add an item in a tuple."
   ]
  },
  {
   "cell_type": "code",
   "execution_count": 14,
   "id": "0e80f37b",
   "metadata": {},
   "outputs": [
    {
     "name": "stdout",
     "output_type": "stream",
     "text": [
      "Q14\n",
      "Rollno: 21052410\n",
      "Original Tuple: (1, 2, 3, 4, 5)\n",
      "Updated Tuple: (1, 2, 3, 4, 5, 6)\n"
     ]
    }
   ],
   "source": [
    "print('Q14\\nRollno: 21052410')\n",
    "original_tuple = (1, 2, 3, 4, 5)\n",
    "new_item = 6\n",
    "\n",
    "updated_tuple = original_tuple + (new_item,)\n",
    "\n",
    "print(\"Original Tuple:\", original_tuple)\n",
    "print(\"Updated Tuple:\", updated_tuple)\n"
   ]
  },
  {
   "cell_type": "markdown",
   "id": "d0c0b197",
   "metadata": {},
   "source": [
    "15. Write a Python program to convert a tuple to a string."
   ]
  },
  {
   "cell_type": "code",
   "execution_count": 15,
   "id": "9be28892",
   "metadata": {},
   "outputs": [
    {
     "name": "stdout",
     "output_type": "stream",
     "text": [
      "Q15\n",
      "Rollno: 21052410\n",
      "Original Tuple: ('Hello', ' ', 'World', '!')\n",
      "Converted String: Hello World!\n"
     ]
    }
   ],
   "source": [
    "print('Q15\\nRollno: 21052410')\n",
    "my_tuple = ('Hello', ' ', 'World', '!')\n",
    "\n",
    "result_string = ''.join(map(str, my_tuple))\n",
    "\n",
    "print(\"Original Tuple:\", my_tuple)\n",
    "print(\"Converted String:\", result_string)\n"
   ]
  },
  {
   "cell_type": "markdown",
   "id": "f4b565de",
   "metadata": {},
   "source": [
    "16. Write a Python program to get the 4th element and 4th element from last of a tuple."
   ]
  },
  {
   "cell_type": "code",
   "execution_count": 16,
   "id": "bf9863bb",
   "metadata": {},
   "outputs": [
    {
     "name": "stdout",
     "output_type": "stream",
     "text": [
      "Q16\n",
      "Rollno: 21052410\n",
      "Original Tuple: (1, 2, 3, 4, 5, 6, 7, 8)\n",
      "4th Element: 4\n",
      "4th Element from Last: 5\n"
     ]
    }
   ],
   "source": [
    "print('Q16\\nRollno: 21052410')\n",
    "my_tuple = (1, 2, 3, 4, 5, 6, 7, 8)\n",
    "\n",
    "fourth_element = my_tuple[3]\n",
    "\n",
    "fourth_from_last = my_tuple[-4]\n",
    "\n",
    "print(\"Original Tuple:\", my_tuple)\n",
    "print(\"4th Element:\", fourth_element)\n",
    "print(\"4th Element from Last:\", fourth_from_last)\n"
   ]
  },
  {
   "cell_type": "markdown",
   "id": "821d88bf",
   "metadata": {},
   "source": [
    "17. Write a Python program to find the repeated items of a tuple."
   ]
  },
  {
   "cell_type": "code",
   "execution_count": 17,
   "id": "5778fa2f",
   "metadata": {},
   "outputs": [
    {
     "name": "stdout",
     "output_type": "stream",
     "text": [
      "Q17\n",
      "Rollno: 21052410\n",
      "Original Tuple: (1, 2, 3, 2, 4, 5, 6, 6, 7)\n",
      "Repeated Items: [2, 6]\n"
     ]
    }
   ],
   "source": [
    "print('Q17\\nRollno: 21052410')\n",
    "def find_repeated_items(my_tuple):\n",
    "    repeated_items = set()\n",
    "    unique_items = set()\n",
    "\n",
    "    for item in my_tuple:\n",
    "        if item in unique_items:\n",
    "            repeated_items.add(item)\n",
    "        else:\n",
    "            unique_items.add(item)\n",
    "\n",
    "    return list(repeated_items)\n",
    "\n",
    "sample_tuple = (1, 2, 3, 2, 4, 5, 6, 6, 7)\n",
    "\n",
    "repeated_items_list = find_repeated_items(sample_tuple)\n",
    "\n",
    "print(\"Original Tuple:\", sample_tuple)\n",
    "print(\"Repeated Items:\", repeated_items_list)\n"
   ]
  },
  {
   "cell_type": "markdown",
   "id": "bee5e75d",
   "metadata": {},
   "source": [
    "18. Write a Python program to check whether an element exists within a tuple."
   ]
  },
  {
   "cell_type": "code",
   "execution_count": 18,
   "id": "dde8ddf9",
   "metadata": {},
   "outputs": [
    {
     "name": "stdout",
     "output_type": "stream",
     "text": [
      "Q18\n",
      "Rollno: 21052410\n",
      "Original Tuple: (1, 2, 3, 4, 5)\n",
      "Does 3 exist in the tuple? True\n"
     ]
    }
   ],
   "source": [
    "print('Q18\\nRollno: 21052410')\n",
    "def check_element_existence(my_tuple, element):\n",
    "    return element in my_tuple\n",
    "\n",
    "sample_tuple = (1, 2, 3, 4, 5)\n",
    "\n",
    "element_to_check = 3\n",
    "\n",
    "element_exists = check_element_existence(sample_tuple, element_to_check)\n",
    "\n",
    "print(\"Original Tuple:\", sample_tuple)\n",
    "print(f\"Does {element_to_check} exist in the tuple? {element_exists}\")\n"
   ]
  },
  {
   "cell_type": "markdown",
   "id": "19acb7a2",
   "metadata": {},
   "source": [
    "19. Write a Python program to slice a tuple."
   ]
  },
  {
   "cell_type": "code",
   "execution_count": 19,
   "id": "ddeab223",
   "metadata": {},
   "outputs": [
    {
     "name": "stdout",
     "output_type": "stream",
     "text": [
      "Q19\n",
      "Rollno: 21052410\n",
      "Original Tuple: (1, 2, 3, 4, 5, 6, 7, 8, 9, 10)\n",
      "Sliced Tuple: (3, 4, 5, 6, 7)\n"
     ]
    }
   ],
   "source": [
    "print('Q19\\nRollno: 21052410')\n",
    "my_tuple = (1, 2, 3, 4, 5, 6, 7, 8, 9, 10)\n",
    "\n",
    "sliced_tuple = my_tuple[2:7]\n",
    "\n",
    "print(\"Original Tuple:\", my_tuple)\n",
    "print(\"Sliced Tuple:\", sliced_tuple)\n"
   ]
  },
  {
   "cell_type": "markdown",
   "id": "3397f1d7",
   "metadata": {},
   "source": [
    "20. Write a Python program to find the index of an item of a tuple."
   ]
  },
  {
   "cell_type": "code",
   "execution_count": 20,
   "id": "bac03ebe",
   "metadata": {},
   "outputs": [
    {
     "name": "stdout",
     "output_type": "stream",
     "text": [
      "Q20\n",
      "Rollno: 21052410\n",
      "Original Tuple: (10, 20, 30, 40, 50)\n",
      "Index of 30 in the tuple: 2\n"
     ]
    }
   ],
   "source": [
    "print('Q20\\nRollno: 21052410')\n",
    "def find_item_index(my_tuple, item):\n",
    "    try:\n",
    "        index = my_tuple.index(item)\n",
    "        return index\n",
    "    except ValueError:\n",
    "        return f\"{item} not found in the tuple\"\n",
    "\n",
    "sample_tuple = (10, 20, 30, 40, 50)\n",
    "\n",
    "item_to_find = 30\n",
    "\n",
    "item_index = find_item_index(sample_tuple, item_to_find)\n",
    "\n",
    "print(\"Original Tuple:\", sample_tuple)\n",
    "print(f\"Index of {item_to_find} in the tuple: {item_index}\")\n"
   ]
  },
  {
   "cell_type": "markdown",
   "id": "3f9c670f",
   "metadata": {},
   "source": [
    "21. Write a Python program to find the length of a tuple."
   ]
  },
  {
   "cell_type": "code",
   "execution_count": 21,
   "id": "6cdc1b67",
   "metadata": {},
   "outputs": [
    {
     "name": "stdout",
     "output_type": "stream",
     "text": [
      "Q21\n",
      "Rollno: 21052410\n",
      "Original Tuple: (1, 2, 3, 4, 5)\n",
      "Length of the Tuple: 5\n"
     ]
    }
   ],
   "source": [
    "print('Q21\\nRollno: 21052410')\n",
    "my_tuple = (1, 2, 3, 4, 5)\n",
    "\n",
    "tuple_length = len(my_tuple)\n",
    "\n",
    "print(\"Original Tuple:\", my_tuple)\n",
    "print(\"Length of the Tuple:\", tuple_length)\n"
   ]
  },
  {
   "cell_type": "markdown",
   "id": "e331006f",
   "metadata": {},
   "source": [
    "22. Write a Python program to convert a tuple to a dictionary."
   ]
  },
  {
   "cell_type": "code",
   "execution_count": 22,
   "id": "7b8b777f",
   "metadata": {},
   "outputs": [
    {
     "name": "stdout",
     "output_type": "stream",
     "text": [
      "Q22\n",
      "Rollno: 21052410\n",
      "Original Tuple: (('a', 1), ('b', 2), ('c', 3))\n",
      "Converted Dictionary: {'a': 1, 'b': 2, 'c': 3}\n"
     ]
    }
   ],
   "source": [
    "print('Q22\\nRollno: 21052410')\n",
    "def tuple_to_dict(my_tuple):\n",
    "    my_dict = dict(my_tuple)\n",
    "    return my_dict\n",
    "\n",
    "sample_tuple = ((\"a\", 1), (\"b\", 2), (\"c\", 3))\n",
    "\n",
    "converted_dict = tuple_to_dict(sample_tuple)\n",
    "\n",
    "print(\"Original Tuple:\", sample_tuple)\n",
    "print(\"Converted Dictionary:\", converted_dict)\n"
   ]
  },
  {
   "cell_type": "markdown",
   "id": "7b6169a6",
   "metadata": {},
   "source": [
    "23. Write a Python program to unzip a list of tuples into individual lists."
   ]
  },
  {
   "cell_type": "code",
   "execution_count": 23,
   "id": "fd33c5d1",
   "metadata": {},
   "outputs": [
    {
     "name": "stdout",
     "output_type": "stream",
     "text": [
      "Q23\n",
      "Rollno: 21052410\n",
      "List of Tuples: [(1, 'one'), (2, 'two'), (3, 'three')]\n",
      "Numbers List: [1, 2, 3]\n",
      "Words List: ['one', 'two', 'three']\n"
     ]
    }
   ],
   "source": [
    "print('Q23\\nRollno: 21052410')\n",
    "list_of_tuples = [(1, 'one'), (2, 'two'), (3, 'three')]\n",
    "\n",
    "numbers, words = zip(*list_of_tuples)\n",
    "\n",
    "print(\"List of Tuples:\", list_of_tuples)\n",
    "print(\"Numbers List:\", list(numbers))\n",
    "print(\"Words List:\", list(words))\n"
   ]
  },
  {
   "cell_type": "markdown",
   "id": "4a005d18",
   "metadata": {},
   "source": [
    "24. Write a Python program to reverse a tuple."
   ]
  },
  {
   "cell_type": "code",
   "execution_count": 24,
   "id": "aa1bb0d9",
   "metadata": {},
   "outputs": [
    {
     "name": "stdout",
     "output_type": "stream",
     "text": [
      "Q24\n",
      "Rollno: 21052410\n",
      "Original Tuple: (1, 2, 3, 4, 5)\n",
      "Reversed Tuple: (5, 4, 3, 2, 1)\n"
     ]
    }
   ],
   "source": [
    "print('Q24\\nRollno: 21052410')\n",
    "my_tuple = (1, 2, 3, 4, 5)\n",
    "\n",
    "reversed_tuple = my_tuple[::-1]\n",
    "\n",
    "print(\"Original Tuple:\", my_tuple)\n",
    "print(\"Reversed Tuple:\", reversed_tuple)\n"
   ]
  },
  {
   "cell_type": "markdown",
   "id": "44b6eb96",
   "metadata": {},
   "source": [
    "25. Write a Python program to convert a list of tuples into a dictionary."
   ]
  },
  {
   "cell_type": "code",
   "execution_count": 26,
   "id": "627ef681",
   "metadata": {},
   "outputs": [
    {
     "name": "stdout",
     "output_type": "stream",
     "text": [
      "Q25\n",
      "Rollno: 21052410\n",
      "List of Tuples: [('a', 1), ('b', 2), ('c', 3)]\n",
      "Converted Dictionary: {'a': 1, 'b': 2, 'c': 3}\n"
     ]
    }
   ],
   "source": [
    "print('Q25\\nRollno: 21052410')\n",
    "def list_of_tuples_to_dict(list_of_tuples):\n",
    "    my_dict = dict(list_of_tuples)\n",
    "    return my_dict\n",
    "sample_list_of_tuples = [(\"a\", 1), (\"b\", 2), (\"c\", 3)]\n",
    "\n",
    "converted_dict = list_of_tuples_to_dict(sample_list_of_tuples)\n",
    "\n",
    "print(\"List of Tuples:\", sample_list_of_tuples)\n",
    "print(\"Converted Dictionary:\", converted_dict)\n"
   ]
  },
  {
   "cell_type": "markdown",
   "id": "cb5d4a92",
   "metadata": {},
   "source": [
    "26. Write a Python program to print a tuple with string formatting.<br>\n",
    "Sample tuple : (100, 200, 300)<br>\n",
    "Output : This is a tuple (100, 200, 300)"
   ]
  },
  {
   "cell_type": "code",
   "execution_count": 32,
   "id": "6bdcf617",
   "metadata": {},
   "outputs": [
    {
     "name": "stdout",
     "output_type": "stream",
     "text": [
      "Q26\n",
      "Rollno: 21052410\n",
      "This is a tuple (100, 200, 300)\n"
     ]
    }
   ],
   "source": [
    "print('Q26\\nRollno: 21052410')\n",
    "my_tuple = (100, 200, 300)\n",
    "\n",
    "output_string = f\"This is a tuple {my_tuple}\"\n",
    "\n",
    "print(output_string)\n"
   ]
  },
  {
   "cell_type": "markdown",
   "id": "d4761fb2",
   "metadata": {},
   "source": [
    "27. Write a Python program to replace last value of tuples in a list.<br>\n",
    "Sample list: [(10, 20, 40), (40, 50, 60), (70, 80, 90)]<br>\n",
    "Expected Output: [(10, 20, 100), (40, 50, 100), (70, 80, 100)]"
   ]
  },
  {
   "cell_type": "code",
   "execution_count": 28,
   "id": "a99cf3f5",
   "metadata": {},
   "outputs": [
    {
     "name": "stdout",
     "output_type": "stream",
     "text": [
      "Q27\n",
      "Rollo: 21052410\n",
      "Original List of Tuples: [(10, 20, 40), (40, 50, 60), (70, 80, 90)]\n",
      "Updated List of Tuples: [(10, 20, 100), (40, 50, 100), (70, 80, 100)]\n"
     ]
    }
   ],
   "source": [
    "print('Q27\\nRollo: 21052410')\n",
    "list_of_tuples = [(10, 20, 40), (40, 50, 60), (70, 80, 90)]\n",
    "\n",
    "new_value = 100\n",
    "\n",
    "updated_list_of_tuples = [(t[0], t[1], new_value) for t in list_of_tuples]\n",
    "print(\"Original List of Tuples:\", list_of_tuples)\n",
    "print(\"Updated List of Tuples:\", updated_list_of_tuples)\n"
   ]
  },
  {
   "cell_type": "markdown",
   "id": "0262c4c7",
   "metadata": {},
   "source": [
    "28. Write a Python program to replace last value of tuples in a list.<br>\n",
    "Sample data: [(), (), ('',), ('a', 'b'), ('a', 'b', 'c'), ('d')]<br>\n",
    "Expected output: [('',), ('a', 'b'), ('a', 'b', 'c'), 'd']<br>"
   ]
  },
  {
   "cell_type": "code",
   "execution_count": 34,
   "id": "494bd8eb",
   "metadata": {},
   "outputs": [
    {
     "name": "stdout",
     "output_type": "stream",
     "text": [
      "Q28\n",
      "Rollno: 21052410\n",
      "Original List of Tuples: [(), (), ('',), ('a', 'b'), ('a', 'b', 'c'), 'd']\n",
      "Updated List of Tuples: [('a', 'b'), ('a', 'b', 'c'), 'd']\n"
     ]
    }
   ],
   "source": [
    "print('Q28\\nRollno: 21052410')\n",
    "list_of_tuples = [(), (), ('',), ('a', 'b'), ('a', 'b', 'c'), ('d')]\n",
    "updated_list_of_tuples = [t for t in list_of_tuples if len(t) > 0 and t[-1] != '']\n",
    "\n",
    "print(\"Original List of Tuples:\", list_of_tuples)\n",
    "print(\"Updated List of Tuples:\", updated_list_of_tuples)\n"
   ]
  },
  {
   "cell_type": "markdown",
   "id": "a4c67ada",
   "metadata": {},
   "source": [
    "29. Write a Python program to sort a tuple by its float element.<br>\n",
    "Sample data: [('item1', '12.20'), ('item2', '15.10'), ('item3', '24.5')]<br>\n",
    "Expected Output: [('item3', '24.5'), ('item2', '15.10'), ('item1', '12.20')]<br>"
   ]
  },
  {
   "cell_type": "code",
   "execution_count": 29,
   "id": "347183da",
   "metadata": {},
   "outputs": [
    {
     "name": "stdout",
     "output_type": "stream",
     "text": [
      "Q29\n",
      "Rollno: 21052410\n",
      "Original Data: [('item1', '12.20'), ('item2', '15.10'), ('item3', '24.5')]\n",
      "Sorted Data: [('item3', '24.5'), ('item2', '15.10'), ('item1', '12.20')]\n"
     ]
    }
   ],
   "source": [
    "print('Q29\\nRollno: 21052410')\n",
    "data = [('item1', '12.20'), ('item2', '15.10'), ('item3', '24.5')]\n",
    "\n",
    "sorted_data = sorted(data, key=lambda x: float(x[1]), reverse=True)\n",
    "\n",
    "print(\"Original Data:\", data)\n",
    "print(\"Sorted Data:\", sorted_data)\n",
    "\n"
   ]
  },
  {
   "cell_type": "markdown",
   "id": "858751b6",
   "metadata": {},
   "source": [
    "30. Write a Python program to count the elements in a list until an element is a tuple."
   ]
  },
  {
   "cell_type": "code",
   "execution_count": 30,
   "id": "4e912efc",
   "metadata": {},
   "outputs": [
    {
     "name": "stdout",
     "output_type": "stream",
     "text": [
      "Q30\n",
      "Rollno: 21052410\n",
      "Original List: [1, 2, 'a', (3, 4), 'b', 'c', (5, 6, 7)]\n",
      "Number of elements until a tuple is encountered: 3\n"
     ]
    }
   ],
   "source": [
    "print('Q30\\nRollno: 21052410')\n",
    "my_list = [1, 2, 'a', (3, 4), 'b', 'c', (5, 6, 7)]\n",
    "\n",
    "count = 0\n",
    "for element in my_list:\n",
    "    if isinstance(element, tuple):\n",
    "        break\n",
    "    count += 1\n",
    "\n",
    "print(\"Original List:\", my_list)\n",
    "print(f\"Number of elements until a tuple is encountered: {count}\")\n"
   ]
  }
 ],
 "metadata": {
  "kernelspec": {
   "display_name": "Python 3 (ipykernel)",
   "language": "python",
   "name": "python3"
  },
  "language_info": {
   "codemirror_mode": {
    "name": "ipython",
    "version": 3
   },
   "file_extension": ".py",
   "mimetype": "text/x-python",
   "name": "python",
   "nbconvert_exporter": "python",
   "pygments_lexer": "ipython3",
   "version": "3.11.5"
  }
 },
 "nbformat": 4,
 "nbformat_minor": 5
}
