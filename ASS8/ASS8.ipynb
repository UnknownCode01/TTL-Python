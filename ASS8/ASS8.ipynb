{
 "cells": [
  {
   "cell_type": "markdown",
   "id": "819c6318",
   "metadata": {},
   "source": [
    "1. Create a null vector of size 10 but the fifth value is 1"
   ]
  },
  {
   "cell_type": "code",
   "execution_count": 1,
   "id": "48d5f2fc",
   "metadata": {},
   "outputs": [
    {
     "name": "stdout",
     "output_type": "stream",
     "text": [
      "21052410\n",
      "[0. 0. 0. 0. 1. 0. 0. 0. 0. 0.]\n"
     ]
    }
   ],
   "source": [
    "print('21052410')\n",
    "import numpy as np\n",
    "\n",
    "null_vector = np.zeros(10)\n",
    "null_vector[4] = 1\n",
    "\n",
    "print(null_vector)"
   ]
  },
  {
   "cell_type": "markdown",
   "id": "ba4d2513",
   "metadata": {},
   "source": [
    "2. Create a vector with values ranging from 10 to 49 "
   ]
  },
  {
   "cell_type": "code",
   "execution_count": 2,
   "id": "76dc335f",
   "metadata": {},
   "outputs": [
    {
     "name": "stdout",
     "output_type": "stream",
     "text": [
      "21052410\n",
      "[10 11 12 13 14 15 16 17 18 19 20 21 22 23 24 25 26 27 28 29 30 31 32 33\n",
      " 34 35 36 37 38 39 40 41 42 43 44 45 46 47 48 49]\n"
     ]
    }
   ],
   "source": [
    "print('21052410')\n",
    "import numpy as np\n",
    "\n",
    "vector = np.arange(10, 50)\n",
    "\n",
    "print(vector)"
   ]
  },
  {
   "cell_type": "markdown",
   "id": "73811755",
   "metadata": {},
   "source": [
    "3. Reverse a vector (first element becomes last)"
   ]
  },
  {
   "cell_type": "code",
   "execution_count": 3,
   "id": "56471973",
   "metadata": {},
   "outputs": [
    {
     "name": "stdout",
     "output_type": "stream",
     "text": [
      "21052410\n",
      "[5, 4, 3, 2, 1]\n"
     ]
    }
   ],
   "source": [
    "print('21052410')\n",
    "vector = [1, 2, 3, 4, 5] \n",
    "reversed_vector = vector[::-1]\n",
    "\n",
    "print(reversed_vector)"
   ]
  },
  {
   "cell_type": "markdown",
   "id": "7ddd182f",
   "metadata": {},
   "source": [
    "4. Create a 3x3 matrix with values ranging from 0 to 8\n",
    "`hint: reshape`"
   ]
  },
  {
   "cell_type": "code",
   "execution_count": 4,
   "id": "429e304c",
   "metadata": {},
   "outputs": [
    {
     "name": "stdout",
     "output_type": "stream",
     "text": [
      "21052410\n",
      "[[0 1 2]\n",
      " [3 4 5]\n",
      " [6 7 8]]\n"
     ]
    }
   ],
   "source": [
    "print('21052410')\n",
    "import numpy as np\n",
    "\n",
    "values = np.arange(9)\n",
    "\n",
    "matrix = np.reshape(values, (3, 3))\n",
    "\n",
    "print(matrix)"
   ]
  },
  {
   "cell_type": "markdown",
   "id": "4f161c2e",
   "metadata": {},
   "source": [
    "5. Find indices of non-zero elements from [1,2,0,0,4,0] \n",
    "`hint: np.nonzero`"
   ]
  },
  {
   "cell_type": "code",
   "execution_count": 7,
   "id": "06288210",
   "metadata": {},
   "outputs": [
    {
     "name": "stdout",
     "output_type": "stream",
     "text": [
      "21052410\n",
      "(array([0, 1, 4], dtype=int64),)\n"
     ]
    }
   ],
   "source": [
    "print('21052410')\n",
    "import numpy as np\n",
    "\n",
    "arr = np.array([1, 2, 0, 0, 4, 0])\n",
    "\n",
    "indices_nonzero = np.nonzero(arr)\n",
    "\n",
    "print(indices_nonzero)"
   ]
  },
  {
   "cell_type": "markdown",
   "id": "f2dbd920",
   "metadata": {},
   "source": [
    "6. Create a 3x3x3 array with random values\n",
    "`hint: np.random.random`"
   ]
  },
  {
   "cell_type": "code",
   "execution_count": 12,
   "id": "25d451ec",
   "metadata": {},
   "outputs": [
    {
     "name": "stdout",
     "output_type": "stream",
     "text": [
      "21052410\n",
      "[[[0.48013795 0.57209897 0.412109  ]\n",
      "  [0.12540653 0.36104989 0.76567448]\n",
      "  [0.11519156 0.32645557 0.24045984]]\n",
      "\n",
      " [[0.63595673 0.28808328 0.73144698]\n",
      "  [0.29637435 0.93800564 0.91069837]\n",
      "  [0.50325916 0.53306617 0.30038316]]\n",
      "\n",
      " [[0.0414752  0.84280816 0.46883511]\n",
      "  [0.84393628 0.08218912 0.1253726 ]\n",
      "  [0.06480153 0.72864659 0.80716669]]]\n"
     ]
    }
   ],
   "source": [
    "print('21052410')\n",
    "import numpy as np\n",
    "\n",
    "array = np.random.random((3, 3, 3))\n",
    "\n",
    "print(array)\n"
   ]
  },
  {
   "cell_type": "markdown",
   "id": "aea9491f",
   "metadata": {},
   "source": [
    "7. Create a 10x10 array with random values and find the minimum and \n",
    "maximum values \n",
    "`hint: min, max`"
   ]
  },
  {
   "cell_type": "code",
   "execution_count": 34,
   "id": "fede6473",
   "metadata": {},
   "outputs": [
    {
     "name": "stdout",
     "output_type": "stream",
     "text": [
      "21052410\n",
      "Minimum value: 0\n",
      "Maximum value: 99\n"
     ]
    }
   ],
   "source": [
    "print('21052410')\n",
    "import numpy as np\n",
    "\n",
    "array = np.random.randint(0, 101, size=(10, 10))\n",
    "\n",
    "min_value = np.min(array)\n",
    "max_value = np.max(array)\n",
    "\n",
    "print(\"Minimum value:\", min_value)\n",
    "print(\"Maximum value:\", max_value)"
   ]
  },
  {
   "cell_type": "markdown",
   "id": "f72f32ac",
   "metadata": {},
   "source": [
    "8. Create a random vector of size 30 and find the mean value \n",
    "`hint: mean`"
   ]
  },
  {
   "cell_type": "code",
   "execution_count": 17,
   "id": "7866be3d",
   "metadata": {},
   "outputs": [
    {
     "name": "stdout",
     "output_type": "stream",
     "text": [
      "21052410\n",
      "Mean value: 0.5176277516930122\n"
     ]
    }
   ],
   "source": [
    "print('21052410')\n",
    "import numpy as np\n",
    "\n",
    "vector = np.random.random(30)\n",
    "\n",
    "mean_value = np.mean(vector)\n",
    "\n",
    "print(\"Mean value:\", mean_value)"
   ]
  },
  {
   "cell_type": "markdown",
   "id": "cc2b5268",
   "metadata": {},
   "source": [
    "9. Create a 2d array with 1 on the border and 0 inside \n",
    "`hint: array[1:-1, 1:-1]`"
   ]
  },
  {
   "cell_type": "code",
   "execution_count": 26,
   "id": "9cdb3176",
   "metadata": {},
   "outputs": [
    {
     "name": "stdout",
     "output_type": "stream",
     "text": [
      "21052410\n",
      "[[1 1 1 1 1]\n",
      " [1 0 0 0 1]\n",
      " [1 0 0 0 1]\n",
      " [1 0 0 0 1]\n",
      " [1 1 1 1 1]]\n"
     ]
    }
   ],
   "source": [
    "print('21052410')\n",
    "import numpy as np\n",
    "\n",
    "array = np.ones((5, 5), dtype=int)\n",
    "\n",
    "array[1:-1, 1:-1] = 0  # Set the inner part to 0\n",
    "print(array)"
   ]
  },
  {
   "cell_type": "markdown",
   "id": "34237f7b",
   "metadata": {},
   "source": [
    "10. Normalize a 5x5 random matrix \n",
    "`hint: (x -mean)/std`"
   ]
  },
  {
   "cell_type": "code",
   "execution_count": 33,
   "id": "9ae406a5",
   "metadata": {},
   "outputs": [
    {
     "name": "stdout",
     "output_type": "stream",
     "text": [
      "21052410\n",
      "Original Matrix:\n",
      "[[1 9 3 3 1]\n",
      " [2 8 8 4 3]\n",
      " [2 1 7 0 1]\n",
      " [5 5 4 0 6]\n",
      " [5 9 7 6 6]]\n",
      "\n",
      "Normalized Matrix:\n",
      "[[-1.17  1.72 -0.45 -0.45 -1.17]\n",
      " [-0.81  1.35  1.35 -0.09 -0.45]\n",
      " [-0.81 -1.17  0.99 -1.53 -1.17]\n",
      " [ 0.27  0.27 -0.09 -1.53  0.63]\n",
      " [ 0.27  1.72  0.99  0.63  0.63]]\n"
     ]
    }
   ],
   "source": [
    "print('21052410')\n",
    "import numpy as np\n",
    "\n",
    "matrix = np.random.randint(0, 10, size=(5, 5))\n",
    "\n",
    "mean = np.mean(matrix)\n",
    "std = np.std(matrix)\n",
    "\n",
    "normalized_matrix = (matrix - mean) / std\n",
    "\n",
    "print(\"Original Matrix:\")\n",
    "print(matrix)\n",
    "print(\"\\nNormalized Matrix:\")\n",
    "print(np.round(normalized_matrix,2))\n"
   ]
  },
  {
   "cell_type": "markdown",
   "id": "f0b5960c",
   "metadata": {},
   "source": [
    "11. Multiply a 5x3 matrix by a 3x2 matrix (real matrix product)"
   ]
  },
  {
   "cell_type": "code",
   "execution_count": 37,
   "id": "c5926727",
   "metadata": {},
   "outputs": [
    {
     "name": "stdout",
     "output_type": "stream",
     "text": [
      "21052410\n",
      "Matrix 1 :\n",
      "[[6 4 8]\n",
      " [3 4 8]\n",
      " [0 1 8]\n",
      " [0 1 2]\n",
      " [1 6 1]]\n",
      "Matrix 2 :\n",
      "[[4 9]\n",
      " [0 4]\n",
      " [1 2]]\n",
      "Resulting Matrix:\n",
      "[[32 86]\n",
      " [20 59]\n",
      " [ 8 20]\n",
      " [ 2  8]\n",
      " [ 5 35]]\n"
     ]
    }
   ],
   "source": [
    "print('21052410')\n",
    "import numpy as np\n",
    "\n",
    "matrix_a = np.random.randint(0, 10, size=(5, 3))\n",
    "\n",
    "matrix_b = np.random.randint(0, 10, size=(3, 2))\n",
    "\n",
    "result = np.dot(matrix_a, matrix_b)\n",
    "\n",
    "# result = matrix_a @ matrix_b\n",
    "print(\"Matrix 1 :\")\n",
    "print(matrix_a)\n",
    "print(\"Matrix 2 :\")\n",
    "print(matrix_b)\n",
    "print(\"Resulting Matrix:\")\n",
    "print(result)\n"
   ]
  },
  {
   "cell_type": "markdown",
   "id": "8ca7e028",
   "metadata": {},
   "source": [
    "12. Given a 1D array, negate all elements which are between 3 and 8, in place."
   ]
  },
  {
   "cell_type": "code",
   "execution_count": 38,
   "id": "03e99b5d",
   "metadata": {},
   "outputs": [
    {
     "name": "stdout",
     "output_type": "stream",
     "text": [
      "21052410\n",
      "[1 2 9]\n"
     ]
    }
   ],
   "source": [
    "print('21052410')\n",
    "import numpy as np\n",
    "\n",
    "arr = np.array([1, 5, 7, 2, 9])\n",
    "arr[(arr >= 3) & (arr <= 8)] *= 0\n",
    "print(arr[arr!=0]) \n"
   ]
  },
  {
   "cell_type": "markdown",
   "id": "ca625b78",
   "metadata": {},
   "source": [
    "13. Find the eigenvalues and eigenvectors of a square matrix.\n",
    "`hint: np.linalg.eig`"
   ]
  },
  {
   "cell_type": "code",
   "execution_count": 45,
   "id": "071d4e0a",
   "metadata": {},
   "outputs": [
    {
     "name": "stdout",
     "output_type": "stream",
     "text": [
      "21052410\n",
      "Enter square matrix size3\n",
      "Matrix:\n",
      "[[3 7 7]\n",
      " [7 9 0]\n",
      " [9 0 4]]\n",
      "Eigenvalues: [-6.31060765 15.69923518  6.61137247]\n",
      "Eigenvectors:\n",
      "[[ 0.712 -0.61   0.216]\n",
      " [-0.326 -0.638 -0.633]\n",
      " [-0.622 -0.47   0.744]]\n"
     ]
    }
   ],
   "source": [
    "print('21052410')\n",
    "import numpy as np\n",
    "\n",
    "n = int(input('Enter square matrix size'))\n",
    "matrix = np.random.randint(0, 10, size=(n,n))\n",
    "\n",
    "eigenvalues, eigenvectors = np.linalg.eig(matrix)\n",
    "print('Matrix:')\n",
    "print(matrix)\n",
    "print(\"Eigenvalues:\", eigenvalues)\n",
    "print(\"Eigenvectors:\")\n",
    "print(np.round(eigenvectors,3))"
   ]
  },
  {
   "cell_type": "markdown",
   "id": "43fc91e5",
   "metadata": {},
   "source": [
    "14. Find the inverse of a square matrix.\n",
    "`hint: np.linalg.inv`"
   ]
  },
  {
   "cell_type": "code",
   "execution_count": 46,
   "id": "461730b0",
   "metadata": {},
   "outputs": [
    {
     "name": "stdout",
     "output_type": "stream",
     "text": [
      "21052410\n",
      "Enter square matrix size3\n",
      "Original Matrix:\n",
      "[[0 4 2]\n",
      " [3 8 0]\n",
      " [6 3 1]]\n",
      "\n",
      "Inverse Matrix:\n",
      "[[-0.08888889 -0.02222222  0.17777778]\n",
      " [ 0.03333333  0.13333333 -0.06666667]\n",
      " [ 0.43333333 -0.26666667  0.13333333]]\n"
     ]
    }
   ],
   "source": [
    "print('21052410')\n",
    "import numpy as np\n",
    "\n",
    "n = int(input('Enter square matrix size'))\n",
    "matrix = np.random.randint(0, 10, size=(n,n))\n",
    "\n",
    "inverse_matrix = np.linalg.inv(matrix)\n",
    "print(\"Original Matrix:\")\n",
    "print(matrix)\n",
    "print(\"\\nInverse Matrix:\")\n",
    "print(inverse_matrix)"
   ]
  }
 ],
 "metadata": {
  "kernelspec": {
   "display_name": "Python 3 (ipykernel)",
   "language": "python",
   "name": "python3"
  },
  "language_info": {
   "codemirror_mode": {
    "name": "ipython",
    "version": 3
   },
   "file_extension": ".py",
   "mimetype": "text/x-python",
   "name": "python",
   "nbconvert_exporter": "python",
   "pygments_lexer": "ipython3",
   "version": "3.11.5"
  }
 },
 "nbformat": 4,
 "nbformat_minor": 5
}
